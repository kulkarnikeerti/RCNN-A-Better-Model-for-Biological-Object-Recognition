{
 "cells": [
  {
   "cell_type": "code",
   "execution_count": 0,
   "metadata": {
    "colab": {},
    "colab_type": "code",
    "id": "1th7j8oe4YUd"
   },
   "outputs": [],
   "source": [
    "import pandas as pd\n",
    "BL_predictions = pd.read_csv('/Predictions/With_Noise_1/BL_1_prediction.csv')\n",
    "B_predictions = pd.read_csv('/Predictions/With_Noise_1/B_1_prediction.csv')\n",
    "BF_predictions = pd.read_csv('/Predictions/With_Noise_1/BF_1_prediction.csv')\n",
    "BK_predictions = pd.read_csv('/Predictions/With_Noise_1/BK_1_prediction.csv')\n",
    "BT_predictions = pd.read_csv('/Predictions/With_Noise_1/BT_1_prediction.csv')\n",
    "BLT_predictions = pd.read_csv('/Predictions/With_Noise_1/BLT_1_prediction.csv')"
   ]
  },
  {
   "cell_type": "code",
   "execution_count": 0,
   "metadata": {
    "colab": {},
    "colab_type": "code",
    "id": "o6ZxGWBL5ci4"
   },
   "outputs": [],
   "source": [
    "BL_prediction_list = BL_predictions.result.to_list()\n",
    "B_prediction_list = B_predictions.result.to_list()\n",
    "BF_prediction_list = BF_predictions.result.to_list()\n",
    "BK_prediction_list = BK_predictions.result.to_list()\n",
    "BT_prediction_list = BT_predictions.result.to_list()\n",
    "BLT_prediction_list = BLT_predictions.result.to_list()"
   ]
  },
  {
   "cell_type": "code",
   "execution_count": 0,
   "metadata": {
    "colab": {},
    "colab_type": "code",
    "id": "z1UPFAbJwUPg"
   },
   "outputs": [],
   "source": [
    "pval_list = []"
   ]
  },
  {
   "cell_type": "code",
   "execution_count": 0,
   "metadata": {
    "colab": {},
    "colab_type": "code",
    "id": "UpO9sbR1JVGS"
   },
   "outputs": [],
   "source": [
    "def mcnemar(p,q,r,s):\n",
    "    from statsmodels.stats.contingency_tables import mcnemar\n",
    "    # define contingency table\n",
    "    table = [[p, q],\n",
    "            [r, s]]\n",
    "    # calculate mcnemar test\n",
    "    result = mcnemar(table, exact=False, correction=True) \n",
    "    return result"
   ]
  },
  {
   "cell_type": "code",
   "execution_count": 0,
   "metadata": {
    "colab": {
     "base_uri": "https://localhost:8080/",
     "height": 107
    },
    "colab_type": "code",
    "id": "zbX-Ta7V6Yy9",
    "outputId": "b87e8ebc-7d56-4d95-941c-eec339689110"
   },
   "outputs": [
    {
     "name": "stdout",
     "output_type": "stream",
     "text": [
      "1829 752 1261 6158\n",
      "1829 752 1261 6158\n",
      "pval_list\n",
      "[1.0154964311834217e-29]\n",
      "statistic=128.19870839542972, p-value=1.0154964311834217e-29\n"
     ]
    }
   ],
   "source": [
    "#B and BL\n",
    "correct_prediction = [i for i, j in zip(B_prediction_list, BL_prediction_list ) if i == j and i!=0 and j!=0]\n",
    "correct_prediction_B = [i for i, j in zip(B_prediction_list, BL_prediction_list ) if i!= 0 and j==0]\n",
    "correct_prediction_BL = [i for i, j in zip(B_prediction_list, BL_prediction_list ) if i == 0 and j!=0]\n",
    "wrong_prediction = [i for i, j in zip(B_prediction_list, BL_prediction_list ) if i == 0 and j==0]\n",
    "\n",
    "\n",
    "p = len(correct_prediction)\n",
    "q = len(correct_prediction_B)\n",
    "r = len(correct_prediction_BL)\n",
    "s = len(wrong_prediction)\n",
    "\n",
    "print(p,q,r,s)\n",
    "\n",
    "result = mcnemar(p,q,r,s)\n",
    "pval_list.append(result.pvalue)\n",
    "print(\"pval_list\")\n",
    "print(pval_list)\n",
    "print('statistic={}, p-value={}'.format(result.statistic, result.pvalue))\n"
   ]
  },
  {
   "cell_type": "code",
   "execution_count": 0,
   "metadata": {
    "colab": {
     "base_uri": "https://localhost:8080/",
     "height": 107
    },
    "colab_type": "code",
    "id": "6Q6dP1i_HznG",
    "outputId": "59272007-f6fb-49d6-843e-72c1bdfdbdac"
   },
   "outputs": [
    {
     "name": "stdout",
     "output_type": "stream",
     "text": [
      "1946 635 804 6615\n",
      "1946 635 804 6615\n",
      "pval_list\n",
      "[1.0154964311834217e-29, 9.479102927998276e-06]\n",
      "statistic=19.613620569840165, p-value=9.479102927998276e-06\n"
     ]
    }
   ],
   "source": [
    "#B and BF\n",
    "correct_prediction = [i for i, j in zip(B_prediction_list, BF_prediction_list ) if i == j and i!=0 and j!=0]\n",
    "correct_prediction_B = [i for i, j in zip(B_prediction_list, BF_prediction_list ) if i!= 0 and j==0]\n",
    "correct_prediction_BF = [j for i, j in zip(B_prediction_list, BF_prediction_list ) if i == 0 and j!=0]\n",
    "wrong_prediction = [i for i, j in zip(B_prediction_list, BF_prediction_list ) if i == 0 and j==0]\n",
    "\n",
    "p = len(correct_prediction)\n",
    "q = len(correct_prediction_B)\n",
    "r = len(correct_prediction_BF)\n",
    "s = len(wrong_prediction)\n",
    "\n",
    "print(p,q,r,s)\n",
    "\n",
    "result = mcnemar(p,q,r,s)\n",
    "pval_list.append(result.pvalue)\n",
    "print(\"pval_list\")\n",
    "print(pval_list)\n",
    "print('statistic={}, p-value={}'.format(result.statistic, result.pvalue))"
   ]
  },
  {
   "cell_type": "code",
   "execution_count": 0,
   "metadata": {
    "colab": {
     "base_uri": "https://localhost:8080/",
     "height": 89
    },
    "colab_type": "code",
    "id": "A_ZwNTHGH9LG",
    "outputId": "a71e6555-8b3f-4fc3-cb83-47a6ef6174af"
   },
   "outputs": [
    {
     "name": "stdout",
     "output_type": "stream",
     "text": [
      "1726 855 1010 6409\n",
      "pval_list\n",
      "[1.0154964311834217e-29, 9.479102927998276e-06, 0.00036247177921333785]\n",
      "statistic=12.716353887399464, p-value=0.00036247177921333785\n"
     ]
    }
   ],
   "source": [
    "#B and BK\n",
    "correct_prediction = [i for i, j in zip(B_prediction_list, BK_prediction_list ) if i == j and i!=0 and j!=0]\n",
    "correct_prediction_B = [i for i, j in zip(B_prediction_list, BK_prediction_list ) if i!= 0 and j==0]\n",
    "correct_prediction_BK = [j for i, j in zip(B_prediction_list, BK_prediction_list ) if i == 0 and j!=0]\n",
    "wrong_prediction = [i for i, j in zip(B_prediction_list, BK_prediction_list ) if i == 0 and j==0]\n",
    "\n",
    "p = len(correct_prediction)\n",
    "q = len(correct_prediction_B)\n",
    "r = len(correct_prediction_BK)\n",
    "s = len(wrong_prediction)\n",
    "\n",
    "result = mcnemar(p,q,r,s)\n",
    "pval_list.append(result.pvalue)\n",
    "print(\"pval_list\")\n",
    "print(pval_list)\n",
    "print('statistic={}, p-value={}'.format(result.statistic, result.pvalue))"
   ]
  },
  {
   "cell_type": "code",
   "execution_count": 0,
   "metadata": {
    "colab": {
     "base_uri": "https://localhost:8080/",
     "height": 89
    },
    "colab_type": "code",
    "id": "ARU4SluYIJLZ",
    "outputId": "429e1322-940c-4c76-9a83-df371c5f84a4"
   },
   "outputs": [
    {
     "name": "stdout",
     "output_type": "stream",
     "text": [
      "1834 747 1283 6136\n",
      "pval_list\n",
      "[1.0154964311834217e-29, 9.479102927998276e-06, 0.00036247177921333785, 1.6109453478973702e-32]\n",
      "statistic=140.9975369458128, p-value=1.6109453478973702e-32\n"
     ]
    }
   ],
   "source": [
    "#B and BT\n",
    "correct_prediction = [i for i, j in zip(B_prediction_list, BT_prediction_list ) if i == j and i!=0 and j!=0]\n",
    "correct_prediction_B = [i for i, j in zip(B_prediction_list, BT_prediction_list ) if i!= 0 and j==0]\n",
    "correct_prediction_BT = [j for i, j in zip(B_prediction_list, BT_prediction_list ) if i == 0 and j!=0]\n",
    "wrong_prediction = [i for i, j in zip(B_prediction_list, BT_prediction_list ) if i == 0 and j==0]\n",
    "\n",
    "p = len(correct_prediction)\n",
    "q = len(correct_prediction_B)\n",
    "r = len(correct_prediction_BT)\n",
    "s = len(wrong_prediction)\n",
    "\n",
    "result = mcnemar(p,q,r,s)\n",
    "pval_list.append(result.pvalue)\n",
    "print(\"pval_list\")\n",
    "print(pval_list)\n",
    "print('statistic={}, p-value={}'.format(result.statistic, result.pvalue))"
   ]
  },
  {
   "cell_type": "code",
   "execution_count": 0,
   "metadata": {
    "colab": {
     "base_uri": "https://localhost:8080/",
     "height": 89
    },
    "colab_type": "code",
    "id": "FIJO6Z9GIPnp",
    "outputId": "94b96a9b-169f-44e2-f52b-1ece961047ca"
   },
   "outputs": [
    {
     "name": "stdout",
     "output_type": "stream",
     "text": [
      "1815 766 1307 6112\n",
      "pval_list\n",
      "[1.0154964311834217e-29, 9.479102927998276e-06, 0.00036247177921333785, 1.6109453478973702e-32, 1.903892877161922e-32]\n",
      "statistic=140.66570188133142, p-value=1.903892877161922e-32\n"
     ]
    }
   ],
   "source": [
    "#B and BLT\n",
    "correct_prediction = [i for i, j in zip(B_prediction_list, BLT_prediction_list ) if i == j and i!=0 and j!=0]\n",
    "correct_prediction_B = [i for i, j in zip(B_prediction_list, BLT_prediction_list ) if i!= 0 and j==0]\n",
    "correct_prediction_BLT = [j for i, j in zip(B_prediction_list, BLT_prediction_list ) if i == 0 and j!=0]\n",
    "wrong_prediction = [i for i, j in zip(B_prediction_list, BLT_prediction_list ) if i == 0 and j==0]\n",
    "\n",
    "p = len(correct_prediction)\n",
    "q = len(correct_prediction_B)\n",
    "r = len(correct_prediction_BLT)\n",
    "s = len(wrong_prediction)\n",
    "\n",
    "result = mcnemar(p,q,r,s)\n",
    "pval_list.append(result.pvalue)\n",
    "print(\"pval_list\")\n",
    "print(pval_list)\n",
    "print('statistic={}, p-value={}'.format(result.statistic, result.pvalue))"
   ]
  },
  {
   "cell_type": "code",
   "execution_count": 0,
   "metadata": {
    "colab": {
     "base_uri": "https://localhost:8080/",
     "height": 89
    },
    "colab_type": "code",
    "id": "hN3kFtRGIX--",
    "outputId": "2ff16a37-9387-4228-d4a7-b85cbe84bc8e"
   },
   "outputs": [
    {
     "name": "stdout",
     "output_type": "stream",
     "text": [
      "1844 906 892 6358\n",
      "pval_list\n",
      "[1.0154964311834217e-29, 9.479102927998276e-06, 0.00036247177921333785, 1.6109453478973702e-32, 1.903892877161922e-32, 0.7591605590056819]\n",
      "statistic=0.09399332591768632, p-value=0.7591605590056819\n"
     ]
    }
   ],
   "source": [
    "#BF and BK\n",
    "correct_prediction = [i for i, j in zip(BF_prediction_list, BK_prediction_list ) if i == j and i!=0 and j!=0]\n",
    "correct_prediction_BF = [i for i, j in zip(BF_prediction_list, BK_prediction_list ) if i!= 0 and j==0]\n",
    "correct_prediction_BK = [j for i, j in zip(BF_prediction_list, BK_prediction_list ) if i == 0 and j!=0]\n",
    "wrong_prediction = [i for i, j in zip(BF_prediction_list, BK_prediction_list ) if i == 0 and j==0]\n",
    "\n",
    "p = len(correct_prediction)\n",
    "q = len(correct_prediction_BF)\n",
    "r = len(correct_prediction_BK)\n",
    "s = len(wrong_prediction)\n",
    "\n",
    "result = mcnemar(p,q,r,s)\n",
    "pval_list.append(result.pvalue)\n",
    "print(\"pval_list\")\n",
    "print(pval_list)\n",
    "print('statistic={}, p-value={}'.format(result.statistic, result.pvalue))"
   ]
  },
  {
   "cell_type": "code",
   "execution_count": 0,
   "metadata": {
    "colab": {
     "base_uri": "https://localhost:8080/",
     "height": 89
    },
    "colab_type": "code",
    "id": "YHb76uLbIbb6",
    "outputId": "9676590b-c456-40b9-8baa-14674bcbdd8c"
   },
   "outputs": [
    {
     "name": "stdout",
     "output_type": "stream",
     "text": [
      "2027 723 1063 6187\n",
      "pval_list\n",
      "[1.0154964311834217e-29, 9.479102927998276e-06, 0.00036247177921333785, 1.6109453478973702e-32, 1.903892877161922e-32, 0.7591605590056819, 1.0440844521653565e-15]\n",
      "statistic=64.3454647256439, p-value=1.0440844521653565e-15\n"
     ]
    }
   ],
   "source": [
    "#BF and BL\n",
    "correct_prediction = [i for i, j in zip(BF_prediction_list, BL_prediction_list ) if i == j and i!=0 and j!=0]\n",
    "correct_prediction_BF = [i for i, j in zip(BF_prediction_list, BL_prediction_list ) if i!= 0 and j==0]\n",
    "correct_prediction_BL = [j for i, j in zip(BF_prediction_list, BL_prediction_list ) if i == 0 and j!=0]\n",
    "wrong_prediction = [i for i, j in zip(BF_prediction_list, BL_prediction_list ) if i == 0 and j==0]\n",
    "\n",
    "p = len(correct_prediction)\n",
    "q = len(correct_prediction_BF)\n",
    "r = len(correct_prediction_BL)\n",
    "s = len(wrong_prediction)\n",
    "\n",
    "result = mcnemar(p,q,r,s)\n",
    "pval_list.append(result.pvalue)\n",
    "print(\"pval_list\")\n",
    "print(pval_list)\n",
    "print('statistic={}, p-value={}'.format(result.statistic, result.pvalue))"
   ]
  },
  {
   "cell_type": "code",
   "execution_count": 0,
   "metadata": {
    "colab": {
     "base_uri": "https://localhost:8080/",
     "height": 89
    },
    "colab_type": "code",
    "id": "pYtCS7akIfdC",
    "outputId": "d3c2dcc8-7614-4432-c5d9-992e794e0923"
   },
   "outputs": [
    {
     "name": "stdout",
     "output_type": "stream",
     "text": [
      "2024 726 1093 6157\n",
      "pval_list\n",
      "[1.0154964311834217e-29, 9.479102927998276e-06, 0.00036247177921333785, 1.6109453478973702e-32, 1.903892877161922e-32, 0.7591605590056819, 1.0440844521653565e-15, 9.361929016096264e-18]\n",
      "statistic=73.64266080263882, p-value=9.361929016096264e-18\n"
     ]
    }
   ],
   "source": [
    "#BF and BT\n",
    "correct_prediction = [i for i, j in zip(BF_prediction_list, BT_prediction_list ) if i == j and i!=0 and j!=0]\n",
    "correct_prediction_BF = [i for i, j in zip(BF_prediction_list, BT_prediction_list ) if i!= 0 and j==0]\n",
    "correct_prediction_BT = [j for i, j in zip(BF_prediction_list, BT_prediction_list ) if i == 0 and j!=0]\n",
    "wrong_prediction = [i for i, j in zip(BF_prediction_list, BT_prediction_list ) if i == 0 and j==0]\n",
    "\n",
    "p = len(correct_prediction)\n",
    "q = len(correct_prediction_BF)\n",
    "r = len(correct_prediction_BT)\n",
    "s = len(wrong_prediction)\n",
    "\n",
    "result = mcnemar(p,q,r,s)\n",
    "pval_list.append(result.pvalue)\n",
    "print(\"pval_list\")\n",
    "print(pval_list)\n",
    "print('statistic={}, p-value={}'.format(result.statistic, result.pvalue))"
   ]
  },
  {
   "cell_type": "code",
   "execution_count": 0,
   "metadata": {
    "colab": {
     "base_uri": "https://localhost:8080/",
     "height": 109
    },
    "colab_type": "code",
    "id": "xew7-yJZIkhu",
    "outputId": "26638c9e-61b6-434c-a8b6-e5c0df79f507"
   },
   "outputs": [
    {
     "name": "stdout",
     "output_type": "stream",
     "text": [
      "2026 724 1096 6154\n",
      "pval_list\n",
      "[1.0154964311834217e-29, 9.479102927998276e-06, 0.00036247177921333785, 1.6109453478973702e-32, 1.903892877161922e-32, 0.7591605590056819, 1.0440844521653565e-15, 9.361929016096264e-18, 3.426573590369562e-18]\n",
      "statistic=75.62692307692308, p-value=3.426573590369562e-18\n"
     ]
    }
   ],
   "source": [
    "#BF and BLT\n",
    "correct_prediction = [i for i, j in zip(BF_prediction_list, BLT_prediction_list ) if i == j and i!=0 and j!=0]\n",
    "correct_prediction_BF = [i for i, j in zip(BF_prediction_list, BLT_prediction_list ) if i!= 0 and j==0]\n",
    "correct_prediction_BLT = [j for i, j in zip(BF_prediction_list, BLT_prediction_list ) if i == 0 and j!=0]\n",
    "wrong_prediction = [i for i, j in zip(BF_prediction_list, BLT_prediction_list ) if i == 0 and j==0]\n",
    "\n",
    "p = len(correct_prediction)\n",
    "q = len(correct_prediction_BF)\n",
    "r = len(correct_prediction_BLT)\n",
    "s = len(wrong_prediction)\n",
    "\n",
    "result = mcnemar(p,q,r,s)\n",
    "pval_list.append(result.pvalue)\n",
    "print(\"pval_list\")\n",
    "print(pval_list)\n",
    "print('statistic={}, p-value={}'.format(result.statistic, result.pvalue))"
   ]
  },
  {
   "cell_type": "code",
   "execution_count": 0,
   "metadata": {
    "colab": {
     "base_uri": "https://localhost:8080/",
     "height": 109
    },
    "colab_type": "code",
    "id": "1bBrPNhOIp1v",
    "outputId": "eccecf0a-28ea-4ce7-fc42-0083e0b3ac1f"
   },
   "outputs": [
    {
     "name": "stdout",
     "output_type": "stream",
     "text": [
      "1938 798 1152 6112\n",
      "pval_list\n",
      "[1.0154964311834217e-29, 9.479102927998276e-06, 0.00036247177921333785, 1.6109453478973702e-32, 1.903892877161922e-32, 0.7591605590056819, 1.0440844521653565e-15, 9.361929016096264e-18, 3.426573590369562e-18, 1.3076142824679987e-15]\n",
      "statistic=63.90205128205128, p-value=1.3076142824679987e-15\n"
     ]
    }
   ],
   "source": [
    "#BK and BL\n",
    "correct_prediction = [i for i, j in zip(BK_prediction_list, BL_prediction_list ) if i == j and i!=0 and j!=0]\n",
    "correct_prediction_BK = [i for i, j in zip(BK_prediction_list, BL_prediction_list ) if i!= 0 and j==0]\n",
    "correct_prediction_BL = [j for i, j in zip(BK_prediction_list, BL_prediction_list ) if i == 0 and j!=0]\n",
    "wrong_prediction = [i for i, j in zip(BK_prediction_list, BL_prediction_list ) if i == 0 and j==0]\n",
    "\n",
    "p = len(correct_prediction)\n",
    "q = len(correct_prediction_BK)\n",
    "r = len(correct_prediction_BL)\n",
    "s = len(wrong_prediction)\n",
    "\n",
    "result = mcnemar(p,q,r,s)\n",
    "pval_list.append(result.pvalue)\n",
    "print(\"pval_list\")\n",
    "print(pval_list)\n",
    "print('statistic={}, p-value={}'.format(result.statistic, result.pvalue))"
   ]
  },
  {
   "cell_type": "code",
   "execution_count": 0,
   "metadata": {
    "colab": {
     "base_uri": "https://localhost:8080/",
     "height": 109
    },
    "colab_type": "code",
    "id": "xGoDraInIzNP",
    "outputId": "60d8413f-f817-400f-c89e-5eab1251ae2d"
   },
   "outputs": [
    {
     "name": "stdout",
     "output_type": "stream",
     "text": [
      "1922 814 1195 6069\n",
      "pval_list\n",
      "[1.0154964311834217e-29, 9.479102927998276e-06, 0.00036247177921333785, 1.6109453478973702e-32, 1.903892877161922e-32, 0.7591605590056819, 1.0440844521653565e-15, 9.361929016096264e-18, 3.426573590369562e-18, 1.3076142824679987e-15, 2.2908966706714815e-17]\n",
      "statistic=71.87655550024888, p-value=2.2908966706714815e-17\n"
     ]
    }
   ],
   "source": [
    "#BK and BT\n",
    "correct_prediction = [i for i, j in zip(BK_prediction_list, BT_prediction_list ) if i == j and i!=0 and j!=0]\n",
    "correct_prediction_BK = [i for i, j in zip(BK_prediction_list, BT_prediction_list ) if i!= 0 and j==0]\n",
    "correct_prediction_BT = [j for i, j in zip(BK_prediction_list, BT_prediction_list ) if i == 0 and j!=0]\n",
    "wrong_prediction = [i for i, j in zip(BK_prediction_list, BT_prediction_list ) if i == 0 and j==0]\n",
    "\n",
    "p = len(correct_prediction)\n",
    "q = len(correct_prediction_BK)\n",
    "r = len(correct_prediction_BT)\n",
    "s = len(wrong_prediction)\n",
    "\n",
    "result = mcnemar(p,q,r,s)\n",
    "pval_list.append(result.pvalue)\n",
    "print(\"pval_list\")\n",
    "print(pval_list)\n",
    "print('statistic={}, p-value={}'.format(result.statistic, result.pvalue))"
   ]
  },
  {
   "cell_type": "code",
   "execution_count": 0,
   "metadata": {
    "colab": {
     "base_uri": "https://localhost:8080/",
     "height": 109
    },
    "colab_type": "code",
    "id": "aHGtyb0WI2qt",
    "outputId": "64b3b961-478c-483b-a81a-5b13525bda17"
   },
   "outputs": [
    {
     "name": "stdout",
     "output_type": "stream",
     "text": [
      "1926 810 1196 6068\n",
      "pval_list\n",
      "[1.0154964311834217e-29, 9.479102927998276e-06, 0.00036247177921333785, 1.6109453478973702e-32, 1.903892877161922e-32, 0.7591605590056819, 1.0440844521653565e-15, 9.361929016096264e-18, 3.426573590369562e-18, 1.3076142824679987e-15, 2.2908966706714815e-17, 8.255904882585285e-18]\n",
      "statistic=73.89082751744766, p-value=8.255904882585285e-18\n"
     ]
    }
   ],
   "source": [
    "#BK and BLT\n",
    "correct_prediction = [i for i, j in zip(BK_prediction_list, BLT_prediction_list ) if i == j and i!=0 and j!=0]\n",
    "correct_prediction_BK = [i for i, j in zip(BK_prediction_list, BLT_prediction_list ) if i!= 0 and j==0]\n",
    "correct_prediction_BLT = [j for i, j in zip(BK_prediction_list, BLT_prediction_list ) if i == 0 and j!=0]\n",
    "wrong_prediction = [i for i, j in zip(BK_prediction_list, BLT_prediction_list ) if i == 0 and j==0]\n",
    "\n",
    "p = len(correct_prediction)\n",
    "q = len(correct_prediction_BK)\n",
    "r = len(correct_prediction_BLT)\n",
    "s = len(wrong_prediction)\n",
    "\n",
    "result = mcnemar(p,q,r,s)\n",
    "pval_list.append(result.pvalue)\n",
    "print(\"pval_list\")\n",
    "print(pval_list)\n",
    "print('statistic={}, p-value={}'.format(result.statistic, result.pvalue))"
   ]
  },
  {
   "cell_type": "code",
   "execution_count": 0,
   "metadata": {
    "colab": {
     "base_uri": "https://localhost:8080/",
     "height": 109
    },
    "colab_type": "code",
    "id": "OhYOuJA1Eczw",
    "outputId": "435b4d9e-2695-4161-ee1f-c79a65096b85"
   },
   "outputs": [
    {
     "name": "stdout",
     "output_type": "stream",
     "text": [
      "2275 815 842 6068\n",
      "pval_list\n",
      "[1.0154964311834217e-29, 9.479102927998276e-06, 0.00036247177921333785, 1.6109453478973702e-32, 1.903892877161922e-32, 0.7591605590056819, 1.0440844521653565e-15, 9.361929016096264e-18, 3.426573590369562e-18, 1.3076142824679987e-15, 2.2908966706714815e-17, 8.255904882585285e-18, 0.523003589000973]\n",
      "statistic=0.407966203983102, p-value=0.523003589000973\n"
     ]
    }
   ],
   "source": [
    "#BL and BT\n",
    "correct_prediction = [i for i, j in zip(BL_prediction_list, BT_prediction_list ) if i == j and i!=0 and j!=0]\n",
    "correct_prediction_BL = [i for i, j in zip(BL_prediction_list, BT_prediction_list ) if i!= 0 and j==0]\n",
    "correct_prediction_BT = [j for i, j in zip(BL_prediction_list, BT_prediction_list ) if i == 0 and j!=0]\n",
    "wrong_prediction = [i for i, j in zip(BL_prediction_list, BT_prediction_list ) if i == 0 and j==0]\n",
    "\n",
    "p = len(correct_prediction)\n",
    "q = len(correct_prediction_BL)\n",
    "r = len(correct_prediction_BT)\n",
    "s = len(wrong_prediction)\n",
    "\n",
    "result = mcnemar(p,q,r,s)\n",
    "pval_list.append(result.pvalue)\n",
    "print(\"pval_list\")\n",
    "print(pval_list)\n",
    "print('statistic={}, p-value={}'.format(result.statistic, result.pvalue))"
   ]
  },
  {
   "cell_type": "code",
   "execution_count": 0,
   "metadata": {
    "colab": {
     "base_uri": "https://localhost:8080/",
     "height": 109
    },
    "colab_type": "code",
    "id": "_2Ou5dwoI-DR",
    "outputId": "a6a5620e-2788-4a8e-8874-c39c7c263865"
   },
   "outputs": [
    {
     "name": "stdout",
     "output_type": "stream",
     "text": [
      "2319 771 803 6107\n",
      "pval_list\n",
      "[1.0154964311834217e-29, 9.479102927998276e-06, 0.00036247177921333785, 1.6109453478973702e-32, 1.903892877161922e-32, 0.7591605590056819, 1.0440844521653565e-15, 9.361929016096264e-18, 3.426573590369562e-18, 1.3076142824679987e-15, 2.2908966706714815e-17, 8.255904882585285e-18, 0.523003589000973, 0.4345821630746808]\n",
      "statistic=0.6105463786531131, p-value=0.4345821630746808\n"
     ]
    }
   ],
   "source": [
    "#BL and BLT\n",
    "correct_prediction = [i for i, j in zip(BL_prediction_list, BLT_prediction_list ) if i == j and i!=0 and j!=0]\n",
    "correct_prediction_BL = [i for i, j in zip(BL_prediction_list, BLT_prediction_list ) if i!= 0 and j==0]\n",
    "correct_prediction_BLT = [j for i, j in zip(BL_prediction_list, BLT_prediction_list ) if i == 0 and j!=0]\n",
    "wrong_prediction = [i for i, j in zip(BL_prediction_list, BLT_prediction_list ) if i == 0 and j==0]\n",
    "\n",
    "p = len(correct_prediction)\n",
    "q = len(correct_prediction_BL)\n",
    "r = len(correct_prediction_BLT)\n",
    "s = len(wrong_prediction)\n",
    "\n",
    "result = mcnemar(p,q,r,s)\n",
    "pval_list.append(result.pvalue)\n",
    "print(\"pval_list\")\n",
    "print(pval_list)\n",
    "print('statistic={}, p-value={}'.format(result.statistic, result.pvalue))"
   ]
  },
  {
   "cell_type": "code",
   "execution_count": 0,
   "metadata": {
    "colab": {
     "base_uri": "https://localhost:8080/",
     "height": 109
    },
    "colab_type": "code",
    "id": "3nqkWzNKJC5L",
    "outputId": "4e37396f-851a-47b5-e5bc-66417e4445f1"
   },
   "outputs": [
    {
     "name": "stdout",
     "output_type": "stream",
     "text": [
      "2307 810 815 6068\n",
      "pval_list\n",
      "[1.0154964311834217e-29, 9.479102927998276e-06, 0.00036247177921333785, 1.6109453478973702e-32, 1.903892877161922e-32, 0.7591605590056819, 1.0440844521653565e-15, 9.361929016096264e-18, 3.426573590369562e-18, 1.3076142824679987e-15, 2.2908966706714815e-17, 8.255904882585285e-18, 0.523003589000973, 0.4345821630746808, 0.9209574123584585]\n",
      "statistic=0.009846153846153846, p-value=0.9209574123584585\n"
     ]
    }
   ],
   "source": [
    "#BT and BLT\n",
    "correct_prediction = [i for i, j in zip(BT_prediction_list, BLT_prediction_list ) if i == j and i!=0 and j!=0]\n",
    "correct_prediction_BT = [i for i, j in zip(BT_prediction_list, BLT_prediction_list ) if i!= 0 and j==0]\n",
    "correct_prediction_BLT = [j for i, j in zip(BT_prediction_list, BLT_prediction_list ) if i == 0 and j!=0]\n",
    "wrong_prediction = [i for i, j in zip(BT_prediction_list, BLT_prediction_list ) if i == 0 and j==0]\n",
    "\n",
    "p = len(correct_prediction)\n",
    "q = len(correct_prediction_BT)\n",
    "r = len(correct_prediction_BLT)\n",
    "s = len(wrong_prediction)\n",
    "\n",
    "result = mcnemar(p,q,r,s)\n",
    "pval_list.append(result.pvalue)\n",
    "print(\"pval_list\")\n",
    "print(pval_list)\n",
    "print('statistic={}, p-value={}'.format(result.statistic, result.pvalue))"
   ]
  },
  {
   "cell_type": "code",
   "execution_count": 0,
   "metadata": {
    "colab": {
     "base_uri": "https://localhost:8080/",
     "height": 89
    },
    "colab_type": "code",
    "id": "54bAMnxpGUog",
    "outputId": "7a3528e0-af5d-4e47-f1b7-9376bdcede70"
   },
   "outputs": [
    {
     "data": {
      "text/plain": [
       "array([1.01549643e-29, 9.47910293e-06, 3.62471779e-04, 1.61094535e-32,\n",
       "       1.90389288e-32, 7.59160559e-01, 1.04408445e-15, 9.36192902e-18,\n",
       "       3.42657359e-18, 1.30761428e-15, 2.29089667e-17, 8.25590488e-18,\n",
       "       5.23003589e-01, 4.34582163e-01, 9.20957412e-01])"
      ]
     },
     "execution_count": 23,
     "metadata": {
      "tags": []
     },
     "output_type": "execute_result"
    }
   ],
   "source": [
    "len(pval_list)\n",
    "import numpy as np\n",
    "import statsmodels.api\n",
    "pvals = np.array(pval_list)\n",
    "pvals"
   ]
  },
  {
   "cell_type": "code",
   "execution_count": 0,
   "metadata": {
    "colab": {
     "base_uri": "https://localhost:8080/",
     "height": 161
    },
    "colab_type": "code",
    "id": "h_trqnXPwKOi",
    "outputId": "a656f075-a175-4550-cf87-c2e5d36f8268"
   },
   "outputs": [
    {
     "data": {
      "text/plain": [
       "(array([ True,  True,  True,  True,  True, False,  True,  True,  True,\n",
       "         True,  True,  True, False, False, False]),\n",
       " array([5.07748216e-29, 1.42186544e-05, 4.94279699e-04, 1.42791966e-31,\n",
       "        1.42791966e-31, 8.13386313e-01, 1.95765835e-15, 2.34048225e-17,\n",
       "        1.28496510e-17, 2.17935714e-15, 4.90906429e-17, 2.34048225e-17,\n",
       "        6.03465680e-01, 5.43227704e-01, 9.20957412e-01]),\n",
       " 0.0034137129465903193,\n",
       " 0.0033333333333333335)"
      ]
     },
     "execution_count": 24,
     "metadata": {
      "tags": []
     },
     "output_type": "execute_result"
    }
   ],
   "source": [
    "statsmodels.stats.multitest.multipletests(pvals, alpha=0.05, method='fdr_bh', is_sorted=False, returnsorted=False)"
   ]
  },
  {
   "cell_type": "code",
   "execution_count": 0,
   "metadata": {
    "colab": {},
    "colab_type": "code",
    "id": "Xq7Lp9APQ8d3"
   },
   "outputs": [],
   "source": []
  }
 ],
 "metadata": {
  "colab": {
   "collapsed_sections": [],
   "name": "With_Noise_1_2Mcnemars_test.ipynb",
   "provenance": []
  },
  "kernelspec": {
   "display_name": "Python 3",
   "language": "python",
   "name": "python3"
  },
  "language_info": {
   "codemirror_mode": {
    "name": "ipython",
    "version": 3
   },
   "file_extension": ".py",
   "mimetype": "text/x-python",
   "name": "python",
   "nbconvert_exporter": "python",
   "pygments_lexer": "ipython3",
   "version": "3.7.3"
  }
 },
 "nbformat": 4,
 "nbformat_minor": 1
}
