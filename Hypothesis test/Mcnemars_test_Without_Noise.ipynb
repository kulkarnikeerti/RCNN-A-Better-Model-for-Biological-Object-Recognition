{
 "cells": [
  {
   "cell_type": "code",
   "execution_count": 0,
   "metadata": {
    "colab": {},
    "colab_type": "code",
    "id": "1th7j8oe4YUd"
   },
   "outputs": [],
   "source": [
    "import pandas as pd\n",
    "BL_predictions = pd.read_csv('/Predictions/Without_Noise/BL_prediction.csv')\n",
    "B_predictions = pd.read_csv('/Predictions/Without_Noise/B_prediction.csv')\n",
    "BF_predictions = pd.read_csv('/Predictions/Without_Noise/BF_prediction.csv')\n",
    "BK_predictions = pd.read_csv('/Predictions/Without_Noise/BK_prediction.csv')\n",
    "BT_predictions = pd.read_csv('/Predictions/Without_Noise/BT_prediction.csv')\n",
    "BLT_predictions = pd.read_csv('/Predictions/Without_Noise/BLT_prediction.csv')"
   ]
  },
  {
   "cell_type": "code",
   "execution_count": 0,
   "metadata": {
    "colab": {},
    "colab_type": "code",
    "id": "o6ZxGWBL5ci4"
   },
   "outputs": [],
   "source": [
    "BL_prediction_list = BL_predictions.result.to_list()\n",
    "B_prediction_list = B_predictions.result.to_list()\n",
    "BF_prediction_list = BF_predictions.result.to_list()\n",
    "BK_prediction_list = BK_predictions.result.to_list()\n",
    "BT_prediction_list = BT_predictions.result.to_list()\n",
    "BLT_prediction_list = BLT_predictions.result.to_list()"
   ]
  },
  {
   "cell_type": "code",
   "execution_count": 0,
   "metadata": {
    "colab": {},
    "colab_type": "code",
    "id": "UpO9sbR1JVGS"
   },
   "outputs": [],
   "source": [
    "def mcnemar(p,q,r,s):\n",
    "    from statsmodels.stats.contingency_tables import mcnemar\n",
    "    # define contingency table\n",
    "    table = [[p, q],\n",
    "            [r, s]]\n",
    "  # calculate mcnemar test\n",
    "    result = mcnemar(table, exact=False, correction=True) \n",
    "    return result\n"
   ]
  },
  {
   "cell_type": "code",
   "execution_count": 0,
   "metadata": {
    "colab": {},
    "colab_type": "code",
    "id": "2oVNrkniB7em"
   },
   "outputs": [],
   "source": [
    "pval_list = []"
   ]
  },
  {
   "cell_type": "code",
   "execution_count": 0,
   "metadata": {
    "colab": {
     "base_uri": "https://localhost:8080/",
     "height": 107
    },
    "colab_type": "code",
    "id": "zbX-Ta7V6Yy9",
    "outputId": "4c6f280f-6243-423f-d1ea-f4a040fe6bdb"
   },
   "outputs": [
    {
     "name": "stdout",
     "output_type": "stream",
     "text": [
      "3515 776 1818 3891\n",
      "3515 776 1818 3891\n",
      "pval_list\n",
      "[7.482415408309732e-93]\n",
      "statistic=417.7644564379337, p-value=7.482415408309732e-93\n"
     ]
    }
   ],
   "source": [
    "#B and BL\n",
    "correct_prediction = [i for i, j in zip(B_prediction_list, BL_prediction_list ) if i == j and i!=0 and j!=0]\n",
    "correct_prediction_B = [i for i, j in zip(B_prediction_list, BL_prediction_list ) if i!= 0 and j==0]\n",
    "correct_prediction_BL = [i for i, j in zip(B_prediction_list, BL_prediction_list ) if i == 0 and j!=0]\n",
    "wrong_prediction = [i for i, j in zip(B_prediction_list, BL_prediction_list ) if i == 0 and j==0]\n",
    "\n",
    "\n",
    "p = len(correct_prediction)\n",
    "q = len(correct_prediction_B)\n",
    "r = len(correct_prediction_BL)\n",
    "s = len(wrong_prediction)\n",
    "\n",
    "print(p,q,r,s)\n",
    "\n",
    "result = mcnemar(p,q,r,s)\n",
    "pval_list.append(result.pvalue)\n",
    "print(\"pval_list\")\n",
    "print(pval_list)\n",
    "print('statistic={}, p-value={}'.format(result.statistic, result.pvalue))\n"
   ]
  },
  {
   "cell_type": "code",
   "execution_count": 0,
   "metadata": {
    "colab": {
     "base_uri": "https://localhost:8080/",
     "height": 107
    },
    "colab_type": "code",
    "id": "6Q6dP1i_HznG",
    "outputId": "54a4e797-5ee4-4f96-a113-000f5bce5741"
   },
   "outputs": [
    {
     "name": "stdout",
     "output_type": "stream",
     "text": [
      "3562 729 1265 4444\n",
      "3562 729 1265 4444\n",
      "pval_list\n",
      "[7.482415408309732e-93, 4.471773385842625e-33]\n",
      "statistic=143.5431293881645, p-value=4.471773385842625e-33\n"
     ]
    }
   ],
   "source": [
    "#B and BF\n",
    "correct_prediction = [i for i, j in zip(B_prediction_list, BF_prediction_list ) if i == j and i!=0 and j!=0]\n",
    "correct_prediction_B = [i for i, j in zip(B_prediction_list, BF_prediction_list ) if i!= 0 and j==0]\n",
    "correct_prediction_BF = [j for i, j in zip(B_prediction_list, BF_prediction_list ) if i == 0 and j!=0]\n",
    "wrong_prediction = [i for i, j in zip(B_prediction_list, BF_prediction_list ) if i == 0 and j==0]\n",
    "\n",
    "p = len(correct_prediction)\n",
    "q = len(correct_prediction_B)\n",
    "r = len(correct_prediction_BF)\n",
    "s = len(wrong_prediction)\n",
    "\n",
    "print(p,q,r,s)\n",
    "\n",
    "result = mcnemar(p,q,r,s)\n",
    "pval_list.append(result.pvalue)\n",
    "print(\"pval_list\")\n",
    "print(pval_list)\n",
    "print('statistic={}, p-value={}'.format(result.statistic, result.pvalue))"
   ]
  },
  {
   "cell_type": "code",
   "execution_count": 0,
   "metadata": {
    "colab": {
     "base_uri": "https://localhost:8080/",
     "height": 89
    },
    "colab_type": "code",
    "id": "A_ZwNTHGH9LG",
    "outputId": "ed1d57f2-7587-4afe-bee0-e0ffc8938642"
   },
   "outputs": [
    {
     "name": "stdout",
     "output_type": "stream",
     "text": [
      "3385 906 1365 4344\n",
      "pval_list\n",
      "[7.482415408309732e-93, 4.471773385842625e-33, 7.202816245080975e-22]\n",
      "statistic=92.36635843240863, p-value=7.202816245080975e-22\n"
     ]
    }
   ],
   "source": [
    "#B and BK\n",
    "correct_prediction = [i for i, j in zip(B_prediction_list, BK_prediction_list ) if i == j and i!=0 and j!=0]\n",
    "correct_prediction_B = [i for i, j in zip(B_prediction_list, BK_prediction_list ) if i!= 0 and j==0]\n",
    "correct_prediction_BK = [j for i, j in zip(B_prediction_list, BK_prediction_list ) if i == 0 and j!=0]\n",
    "wrong_prediction = [i for i, j in zip(B_prediction_list, BK_prediction_list ) if i == 0 and j==0]\n",
    "\n",
    "p = len(correct_prediction)\n",
    "q = len(correct_prediction_B)\n",
    "r = len(correct_prediction_BK)\n",
    "s = len(wrong_prediction)\n",
    "\n",
    "result = mcnemar(p,q,r,s)\n",
    "pval_list.append(result.pvalue)\n",
    "print(\"pval_list\")\n",
    "print(pval_list)\n",
    "print('statistic={}, p-value={}'.format(result.statistic, result.pvalue))"
   ]
  },
  {
   "cell_type": "code",
   "execution_count": 0,
   "metadata": {
    "colab": {
     "base_uri": "https://localhost:8080/",
     "height": 89
    },
    "colab_type": "code",
    "id": "ARU4SluYIJLZ",
    "outputId": "ba5bb0c3-3487-43f9-efb6-cc4830d9f5a7"
   },
   "outputs": [
    {
     "name": "stdout",
     "output_type": "stream",
     "text": [
      "3486 805 1452 4257\n",
      "pval_list\n",
      "[7.482415408309732e-93, 4.471773385842625e-33, 7.202816245080975e-22, 4.1299812710809135e-42]\n",
      "statistic=184.89853788214444, p-value=4.1299812710809135e-42\n"
     ]
    }
   ],
   "source": [
    "#B and BT\n",
    "correct_prediction = [i for i, j in zip(B_prediction_list, BT_prediction_list ) if i == j and i!=0 and j!=0]\n",
    "correct_prediction_B = [i for i, j in zip(B_prediction_list, BT_prediction_list ) if i!= 0 and j==0]\n",
    "correct_prediction_BT = [j for i, j in zip(B_prediction_list, BT_prediction_list ) if i == 0 and j!=0]\n",
    "wrong_prediction = [i for i, j in zip(B_prediction_list, BT_prediction_list ) if i == 0 and j==0]\n",
    "\n",
    "p = len(correct_prediction)\n",
    "q = len(correct_prediction_B)\n",
    "r = len(correct_prediction_BT)\n",
    "s = len(wrong_prediction)\n",
    "\n",
    "result = mcnemar(p,q,r,s)\n",
    "pval_list.append(result.pvalue)\n",
    "print(\"pval_list\")\n",
    "print(pval_list)\n",
    "print('statistic={}, p-value={}'.format(result.statistic, result.pvalue))"
   ]
  },
  {
   "cell_type": "code",
   "execution_count": 0,
   "metadata": {
    "colab": {
     "base_uri": "https://localhost:8080/",
     "height": 89
    },
    "colab_type": "code",
    "id": "FIJO6Z9GIPnp",
    "outputId": "6577d061-170f-459c-8e11-0117ca0887b1"
   },
   "outputs": [
    {
     "name": "stdout",
     "output_type": "stream",
     "text": [
      "3483 808 1884 3825\n",
      "pval_list\n",
      "[7.482415408309732e-93, 4.471773385842625e-33, 7.202816245080975e-22, 4.1299812710809135e-42, 2.329884139808236e-95]\n",
      "statistic=429.28120356612186, p-value=2.329884139808236e-95\n"
     ]
    }
   ],
   "source": [
    "#B and BLT\n",
    "correct_prediction = [i for i, j in zip(B_prediction_list, BLT_prediction_list ) if i == j and i!=0 and j!=0]\n",
    "correct_prediction_B = [i for i, j in zip(B_prediction_list, BLT_prediction_list ) if i!= 0 and j==0]\n",
    "correct_prediction_BLT = [j for i, j in zip(B_prediction_list, BLT_prediction_list ) if i == 0 and j!=0]\n",
    "wrong_prediction = [i for i, j in zip(B_prediction_list, BLT_prediction_list ) if i == 0 and j==0]\n",
    "\n",
    "p = len(correct_prediction)\n",
    "q = len(correct_prediction_B)\n",
    "r = len(correct_prediction_BLT)\n",
    "s = len(wrong_prediction)\n",
    "\n",
    "result = mcnemar(p,q,r,s)\n",
    "pval_list.append(result.pvalue)\n",
    "print(\"pval_list\")\n",
    "print(pval_list)\n",
    "print('statistic={}, p-value={}'.format(result.statistic, result.pvalue))"
   ]
  },
  {
   "cell_type": "code",
   "execution_count": 0,
   "metadata": {
    "colab": {
     "base_uri": "https://localhost:8080/",
     "height": 89
    },
    "colab_type": "code",
    "id": "hN3kFtRGIX--",
    "outputId": "b783026a-3f21-40cd-d6a3-a4f3533c0e9a"
   },
   "outputs": [
    {
     "name": "stdout",
     "output_type": "stream",
     "text": [
      "3694 1133 1056 4117\n",
      "pval_list\n",
      "[7.482415408309732e-93, 4.471773385842625e-33, 7.202816245080975e-22, 4.1299812710809135e-42, 2.329884139808236e-95, 0.10429227745190212]\n",
      "statistic=2.6386477843764276, p-value=0.10429227745190212\n"
     ]
    }
   ],
   "source": [
    "#BF and BK    No significant difference\n",
    "correct_prediction = [i for i, j in zip(BF_prediction_list, BK_prediction_list ) if i == j and i!=0 and j!=0]\n",
    "correct_prediction_BF = [i for i, j in zip(BF_prediction_list, BK_prediction_list ) if i!= 0 and j==0]\n",
    "correct_prediction_BK = [j for i, j in zip(BF_prediction_list, BK_prediction_list ) if i == 0 and j!=0]\n",
    "wrong_prediction = [i for i, j in zip(BF_prediction_list, BK_prediction_list ) if i == 0 and j==0]\n",
    "\n",
    "p = len(correct_prediction)\n",
    "q = len(correct_prediction_BF)\n",
    "r = len(correct_prediction_BK)\n",
    "s = len(wrong_prediction)\n",
    "\n",
    "result = mcnemar(p,q,r,s)\n",
    "pval_list.append(result.pvalue)\n",
    "print(\"pval_list\")\n",
    "print(pval_list)\n",
    "print('statistic={}, p-value={}'.format(result.statistic, result.pvalue))"
   ]
  },
  {
   "cell_type": "code",
   "execution_count": 0,
   "metadata": {
    "colab": {
     "base_uri": "https://localhost:8080/",
     "height": 89
    },
    "colab_type": "code",
    "id": "YHb76uLbIbb6",
    "outputId": "98bd01d2-83d8-4d3c-ef54-d7e52dfd2edd"
   },
   "outputs": [
    {
     "name": "stdout",
     "output_type": "stream",
     "text": [
      "3942 885 1391 3782\n",
      "pval_list\n",
      "[7.482415408309732e-93, 4.471773385842625e-33, 7.202816245080975e-22, 4.1299812710809135e-42, 2.329884139808236e-95, 0.10429227745190212, 3.484735128334669e-26]\n",
      "statistic=112.04964850615114, p-value=3.484735128334669e-26\n"
     ]
    }
   ],
   "source": [
    "#BF and BL\n",
    "correct_prediction = [i for i, j in zip(BF_prediction_list, BL_prediction_list ) if i == j and i!=0 and j!=0]\n",
    "correct_prediction_BF = [i for i, j in zip(BF_prediction_list, BL_prediction_list ) if i!= 0 and j==0]\n",
    "correct_prediction_BL = [j for i, j in zip(BF_prediction_list, BL_prediction_list ) if i == 0 and j!=0]\n",
    "wrong_prediction = [i for i, j in zip(BF_prediction_list, BL_prediction_list ) if i == 0 and j==0]\n",
    "\n",
    "p = len(correct_prediction)\n",
    "q = len(correct_prediction_BF)\n",
    "r = len(correct_prediction_BL)\n",
    "s = len(wrong_prediction)\n",
    "\n",
    "result = mcnemar(p,q,r,s)\n",
    "pval_list.append(result.pvalue)\n",
    "print(\"pval_list\")\n",
    "print(pval_list)\n",
    "print('statistic={}, p-value={}'.format(result.statistic, result.pvalue))"
   ]
  },
  {
   "cell_type": "code",
   "execution_count": 0,
   "metadata": {
    "colab": {
     "base_uri": "https://localhost:8080/",
     "height": 89
    },
    "colab_type": "code",
    "id": "pYtCS7akIfdC",
    "outputId": "834afbc8-66b0-411e-b260-a748012ccb4b"
   },
   "outputs": [
    {
     "name": "stdout",
     "output_type": "stream",
     "text": [
      "3832 995 1106 4067\n",
      "pval_list\n",
      "[7.482415408309732e-93, 4.471773385842625e-33, 7.202816245080975e-22, 4.1299812710809135e-42, 2.329884139808236e-95, 0.10429227745190212, 3.484735128334669e-26, 0.01640289036068209]\n",
      "statistic=5.7591623036649215, p-value=0.01640289036068209\n"
     ]
    }
   ],
   "source": [
    "#BF and BT\n",
    "correct_prediction = [i for i, j in zip(BF_prediction_list, BT_prediction_list ) if i == j and i!=0 and j!=0]\n",
    "correct_prediction_BF = [i for i, j in zip(BF_prediction_list, BT_prediction_list ) if i!= 0 and j==0]\n",
    "correct_prediction_BT = [j for i, j in zip(BF_prediction_list, BT_prediction_list ) if i == 0 and j!=0]\n",
    "wrong_prediction = [i for i, j in zip(BF_prediction_list, BT_prediction_list ) if i == 0 and j==0]\n",
    "\n",
    "p = len(correct_prediction)\n",
    "q = len(correct_prediction_BF)\n",
    "r = len(correct_prediction_BT)\n",
    "s = len(wrong_prediction)\n",
    "\n",
    "result = mcnemar(p,q,r,s)\n",
    "pval_list.append(result.pvalue)\n",
    "print(\"pval_list\")\n",
    "print(pval_list)\n",
    "print('statistic={}, p-value={}'.format(result.statistic, result.pvalue))"
   ]
  },
  {
   "cell_type": "code",
   "execution_count": 0,
   "metadata": {
    "colab": {
     "base_uri": "https://localhost:8080/",
     "height": 109
    },
    "colab_type": "code",
    "id": "xew7-yJZIkhu",
    "outputId": "a5ca5755-bfb0-4f2c-9e21-963196a2fecd"
   },
   "outputs": [
    {
     "name": "stdout",
     "output_type": "stream",
     "text": [
      "3918 909 1449 3724\n",
      "pval_list\n",
      "[7.482415408309732e-93, 4.471773385842625e-33, 7.202816245080975e-22, 4.1299812710809135e-42, 2.329884139808236e-95, 0.10429227745190212, 3.484735128334669e-26, 0.01640289036068209, 1.2566340316205188e-28]\n",
      "statistic=123.20653095843936, p-value=1.2566340316205188e-28\n"
     ]
    }
   ],
   "source": [
    "#BF and BLT\n",
    "correct_prediction = [i for i, j in zip(BF_prediction_list, BLT_prediction_list ) if i == j and i!=0 and j!=0]\n",
    "correct_prediction_BF = [i for i, j in zip(BF_prediction_list, BLT_prediction_list ) if i!= 0 and j==0]\n",
    "correct_prediction_BLT = [j for i, j in zip(BF_prediction_list, BLT_prediction_list ) if i == 0 and j!=0]\n",
    "wrong_prediction = [i for i, j in zip(BF_prediction_list, BLT_prediction_list ) if i == 0 and j==0]\n",
    "\n",
    "p = len(correct_prediction)\n",
    "q = len(correct_prediction_BF)\n",
    "r = len(correct_prediction_BLT)\n",
    "s = len(wrong_prediction)\n",
    "\n",
    "result = mcnemar(p,q,r,s)\n",
    "pval_list.append(result.pvalue)\n",
    "print(\"pval_list\")\n",
    "print(pval_list)\n",
    "print('statistic={}, p-value={}'.format(result.statistic, result.pvalue))"
   ]
  },
  {
   "cell_type": "code",
   "execution_count": 0,
   "metadata": {
    "colab": {
     "base_uri": "https://localhost:8080/",
     "height": 109
    },
    "colab_type": "code",
    "id": "1bBrPNhOIp1v",
    "outputId": "ddb0a69f-d900-4c6a-ad0b-d24b41440e2f"
   },
   "outputs": [
    {
     "name": "stdout",
     "output_type": "stream",
     "text": [
      "3789 961 1544 3706\n",
      "pval_list\n",
      "[7.482415408309732e-93, 4.471773385842625e-33, 7.202816245080975e-22, 4.1299812710809135e-42, 2.329884139808236e-95, 0.10429227745190212, 3.484735128334669e-26, 0.01640289036068209, 1.2566340316205188e-28, 2.956641033680703e-31]\n",
      "statistic=135.2191616766467, p-value=2.956641033680703e-31\n"
     ]
    }
   ],
   "source": [
    "#BK and BL\n",
    "correct_prediction = [i for i, j in zip(BK_prediction_list, BL_prediction_list ) if i == j and i!=0 and j!=0]\n",
    "correct_prediction_BK = [i for i, j in zip(BK_prediction_list, BL_prediction_list ) if i!= 0 and j==0]\n",
    "correct_prediction_BL = [j for i, j in zip(BK_prediction_list, BL_prediction_list ) if i == 0 and j!=0]\n",
    "wrong_prediction = [i for i, j in zip(BK_prediction_list, BL_prediction_list ) if i == 0 and j==0]\n",
    "\n",
    "p = len(correct_prediction)\n",
    "q = len(correct_prediction_BK)\n",
    "r = len(correct_prediction_BL)\n",
    "s = len(wrong_prediction)\n",
    "\n",
    "result = mcnemar(p,q,r,s)\n",
    "pval_list.append(result.pvalue)\n",
    "print(\"pval_list\")\n",
    "print(pval_list)\n",
    "print('statistic={}, p-value={}'.format(result.statistic, result.pvalue))"
   ]
  },
  {
   "cell_type": "code",
   "execution_count": 0,
   "metadata": {
    "colab": {
     "base_uri": "https://localhost:8080/",
     "height": 109
    },
    "colab_type": "code",
    "id": "xGoDraInIzNP",
    "outputId": "4cb235e4-bbee-4704-9609-17790101900e"
   },
   "outputs": [
    {
     "name": "stdout",
     "output_type": "stream",
     "text": [
      "3702 1048 1236 4014\n",
      "pval_list\n",
      "[7.482415408309732e-93, 4.471773385842625e-33, 7.202816245080975e-22, 4.1299812710809135e-42, 2.329884139808236e-95, 0.10429227745190212, 3.484735128334669e-26, 0.01640289036068209, 1.2566340316205188e-28, 2.956641033680703e-31, 9.121198048295765e-05]\n",
      "statistic=15.310420315236428, p-value=9.121198048295765e-05\n"
     ]
    }
   ],
   "source": [
    "#BK and BT\n",
    "correct_prediction = [i for i, j in zip(BK_prediction_list, BT_prediction_list ) if i == j and i!=0 and j!=0]\n",
    "correct_prediction_BK = [i for i, j in zip(BK_prediction_list, BT_prediction_list ) if i!= 0 and j==0]\n",
    "correct_prediction_BT = [j for i, j in zip(BK_prediction_list, BT_prediction_list ) if i == 0 and j!=0]\n",
    "wrong_prediction = [i for i, j in zip(BK_prediction_list, BT_prediction_list ) if i == 0 and j==0]\n",
    "\n",
    "p = len(correct_prediction)\n",
    "q = len(correct_prediction_BK)\n",
    "r = len(correct_prediction_BT)\n",
    "s = len(wrong_prediction)\n",
    "\n",
    "result = mcnemar(p,q,r,s)\n",
    "pval_list.append(result.pvalue)\n",
    "print(\"pval_list\")\n",
    "print(pval_list)\n",
    "print('statistic={}, p-value={}'.format(result.statistic, result.pvalue))"
   ]
  },
  {
   "cell_type": "code",
   "execution_count": 0,
   "metadata": {
    "colab": {
     "base_uri": "https://localhost:8080/",
     "height": 109
    },
    "colab_type": "code",
    "id": "aHGtyb0WI2qt",
    "outputId": "9ff94d36-e4ad-4609-aa54-d7d6fdbcd3ed"
   },
   "outputs": [
    {
     "name": "stdout",
     "output_type": "stream",
     "text": [
      "3838 912 1529 3721\n",
      "pval_list\n",
      "[7.482415408309732e-93, 4.471773385842625e-33, 7.202816245080975e-22, 4.1299812710809135e-42, 2.329884139808236e-95, 0.10429227745190212, 3.484735128334669e-26, 0.01640289036068209, 1.2566340316205188e-28, 2.956641033680703e-31, 9.121198048295765e-05, 1.1159059300125324e-35]\n",
      "statistic=155.4510446538304, p-value=1.1159059300125324e-35\n"
     ]
    }
   ],
   "source": [
    "#BK and BLT\n",
    "correct_prediction = [i for i, j in zip(BK_prediction_list, BLT_prediction_list ) if i == j and i!=0 and j!=0]\n",
    "correct_prediction_BK = [i for i, j in zip(BK_prediction_list, BLT_prediction_list ) if i!= 0 and j==0]\n",
    "correct_prediction_BLT = [j for i, j in zip(BK_prediction_list, BLT_prediction_list ) if i == 0 and j!=0]\n",
    "wrong_prediction = [i for i, j in zip(BK_prediction_list, BLT_prediction_list ) if i == 0 and j==0]\n",
    "\n",
    "p = len(correct_prediction)\n",
    "q = len(correct_prediction_BK)\n",
    "r = len(correct_prediction_BLT)\n",
    "s = len(wrong_prediction)\n",
    "\n",
    "result = mcnemar(p,q,r,s)\n",
    "pval_list.append(result.pvalue)\n",
    "print(\"pval_list\")\n",
    "print(pval_list)\n",
    "print('statistic={}, p-value={}'.format(result.statistic, result.pvalue))"
   ]
  },
  {
   "cell_type": "code",
   "execution_count": 0,
   "metadata": {
    "colab": {
     "base_uri": "https://localhost:8080/",
     "height": 109
    },
    "colab_type": "code",
    "id": "OhYOuJA1Eczw",
    "outputId": "6c21f568-03d7-4ed2-94db-1df57c524aa3"
   },
   "outputs": [
    {
     "name": "stdout",
     "output_type": "stream",
     "text": [
      "4045 1288 893 3774\n",
      "pval_list\n",
      "[7.482415408309732e-93, 4.471773385842625e-33, 7.202816245080975e-22, 4.1299812710809135e-42, 2.329884139808236e-95, 0.10429227745190212, 3.484735128334669e-26, 0.01640289036068209, 1.2566340316205188e-28, 2.956641033680703e-31, 9.121198048295765e-05, 1.1159059300125324e-35, 3.2665166924080624e-17]\n",
      "statistic=71.1765245300321, p-value=3.2665166924080624e-17\n"
     ]
    }
   ],
   "source": [
    "#BL and BT\n",
    "correct_prediction = [i for i, j in zip(BL_prediction_list, BT_prediction_list ) if i == j and i!=0 and j!=0]\n",
    "correct_prediction_BL = [i for i, j in zip(BL_prediction_list, BT_prediction_list ) if i!= 0 and j==0]\n",
    "correct_prediction_BT = [j for i, j in zip(BL_prediction_list, BT_prediction_list ) if i == 0 and j!=0]\n",
    "wrong_prediction = [i for i, j in zip(BL_prediction_list, BT_prediction_list ) if i == 0 and j==0]\n",
    "\n",
    "p = len(correct_prediction)\n",
    "q = len(correct_prediction_BL)\n",
    "r = len(correct_prediction_BT)\n",
    "s = len(wrong_prediction)\n",
    "\n",
    "result = mcnemar(p,q,r,s)\n",
    "pval_list.append(result.pvalue)\n",
    "print(\"pval_list\")\n",
    "print(pval_list)\n",
    "print('statistic={}, p-value={}'.format(result.statistic, result.pvalue))"
   ]
  },
  {
   "cell_type": "code",
   "execution_count": 0,
   "metadata": {
    "colab": {
     "base_uri": "https://localhost:8080/",
     "height": 109
    },
    "colab_type": "code",
    "id": "_2Ou5dwoI-DR",
    "outputId": "9c505722-2d56-4def-afb5-9493914715e4"
   },
   "outputs": [
    {
     "name": "stdout",
     "output_type": "stream",
     "text": [
      "4296 1037 1071 3596\n",
      "pval_list\n",
      "[7.482415408309732e-93, 4.471773385842625e-33, 7.202816245080975e-22, 4.1299812710809135e-42, 2.329884139808236e-95, 0.10429227745190212, 3.484735128334669e-26, 0.01640289036068209, 1.2566340316205188e-28, 2.956641033680703e-31, 9.121198048295765e-05, 1.1159059300125324e-35, 3.2665166924080624e-17, 0.472294175539844]\n",
      "statistic=0.5166034155597723, p-value=0.472294175539844\n"
     ]
    }
   ],
   "source": [
    "#BL and BLT\n",
    "correct_prediction = [i for i, j in zip(BL_prediction_list, BLT_prediction_list ) if i == j and i!=0 and j!=0]\n",
    "correct_prediction_BL = [i for i, j in zip(BL_prediction_list, BLT_prediction_list ) if i!= 0 and j==0]\n",
    "correct_prediction_BLT = [j for i, j in zip(BL_prediction_list, BLT_prediction_list ) if i == 0 and j!=0]\n",
    "wrong_prediction = [i for i, j in zip(BL_prediction_list, BLT_prediction_list ) if i == 0 and j==0]\n",
    "\n",
    "p = len(correct_prediction)\n",
    "q = len(correct_prediction_BL)\n",
    "r = len(correct_prediction_BLT)\n",
    "s = len(wrong_prediction)\n",
    "\n",
    "result = mcnemar(p,q,r,s)\n",
    "pval_list.append(result.pvalue)\n",
    "print(\"pval_list\")\n",
    "print(pval_list)\n",
    "print('statistic={}, p-value={}'.format(result.statistic, result.pvalue))"
   ]
  },
  {
   "cell_type": "code",
   "execution_count": 0,
   "metadata": {
    "colab": {
     "base_uri": "https://localhost:8080/",
     "height": 109
    },
    "colab_type": "code",
    "id": "3nqkWzNKJC5L",
    "outputId": "fa8c3397-d0ba-4b4c-804f-d0615a7a1f31"
   },
   "outputs": [
    {
     "name": "stdout",
     "output_type": "stream",
     "text": [
      "4088 850 1279 3783\n",
      "pval_list\n",
      "[7.482415408309732e-93, 4.471773385842625e-33, 7.202816245080975e-22, 4.1299812710809135e-42, 2.329884139808236e-95, 0.10429227745190212, 3.484735128334669e-26, 0.01640289036068209, 1.2566340316205188e-28, 2.956641033680703e-31, 9.121198048295765e-05, 1.1159059300125324e-35, 3.2665166924080624e-17, 0.472294175539844, 1.7612997831490606e-20]\n",
      "statistic=86.0422733677783, p-value=1.7612997831490606e-20\n"
     ]
    }
   ],
   "source": [
    "#BT and BLT\n",
    "correct_prediction = [i for i, j in zip(BT_prediction_list, BLT_prediction_list ) if i == j and i!=0 and j!=0]\n",
    "correct_prediction_BT = [i for i, j in zip(BT_prediction_list, BLT_prediction_list ) if i!= 0 and j==0]\n",
    "correct_prediction_BLT = [j for i, j in zip(BT_prediction_list, BLT_prediction_list ) if i == 0 and j!=0]\n",
    "wrong_prediction = [i for i, j in zip(BT_prediction_list, BLT_prediction_list ) if i == 0 and j==0]\n",
    "\n",
    "p = len(correct_prediction)\n",
    "q = len(correct_prediction_BT)\n",
    "r = len(correct_prediction_BLT)\n",
    "s = len(wrong_prediction)\n",
    "\n",
    "result = mcnemar(p,q,r,s)\n",
    "pval_list.append(result.pvalue)\n",
    "print(\"pval_list\")\n",
    "print(pval_list)\n",
    "print('statistic={}, p-value={}'.format(result.statistic, result.pvalue))"
   ]
  },
  {
   "cell_type": "code",
   "execution_count": 0,
   "metadata": {
    "colab": {
     "base_uri": "https://localhost:8080/",
     "height": 89
    },
    "colab_type": "code",
    "id": "54bAMnxpGUog",
    "outputId": "224ab999-558a-4ac8-eeee-71e17f6a2bbe"
   },
   "outputs": [
    {
     "data": {
      "text/plain": [
       "array([7.48241541e-93, 4.47177339e-33, 7.20281625e-22, 4.12998127e-42,\n",
       "       2.32988414e-95, 1.04292277e-01, 3.48473513e-26, 1.64028904e-02,\n",
       "       1.25663403e-28, 2.95664103e-31, 9.12119805e-05, 1.11590593e-35,\n",
       "       3.26651669e-17, 4.72294176e-01, 1.76129978e-20])"
      ]
     },
     "execution_count": 30,
     "metadata": {
      "tags": []
     },
     "output_type": "execute_result"
    }
   ],
   "source": [
    "len(pval_list)\n",
    "import numpy as np\n",
    "import statsmodels.api\n",
    "pvals = np.array(pval_list)\n",
    "pvals"
   ]
  },
  {
   "cell_type": "code",
   "execution_count": 0,
   "metadata": {
    "colab": {
     "base_uri": "https://localhost:8080/",
     "height": 161
    },
    "colab_type": "code",
    "id": "N1eGmz8uBj5h",
    "outputId": "c2581013-8608-4f8f-c0c5-fc13c5fa7090"
   },
   "outputs": [
    {
     "data": {
      "text/plain": [
       "(array([ True,  True,  True,  True,  True, False,  True,  True,  True,\n",
       "         True,  True,  True,  True, False,  True]),\n",
       " array([5.61181156e-92, 1.34153202e-32, 1.20046937e-21, 2.06499064e-41,\n",
       "        3.49482621e-94, 1.11741726e-01, 6.53387837e-26, 1.89264120e-02,\n",
       "        2.69278721e-28, 7.39160258e-31, 1.14014976e-04, 4.18464724e-35,\n",
       "        4.45434094e-17, 4.72294176e-01, 2.64194967e-20]),\n",
       " 0.0034137129465903193,\n",
       " 0.0033333333333333335)"
      ]
     },
     "execution_count": 31,
     "metadata": {
      "tags": []
     },
     "output_type": "execute_result"
    }
   ],
   "source": [
    "statsmodels.stats.multitest.multipletests(pvals, alpha=0.05, method='fdr_bh', is_sorted=False, returnsorted=False)"
   ]
  },
  {
   "cell_type": "code",
   "execution_count": 0,
   "metadata": {
    "colab": {},
    "colab_type": "code",
    "id": "E1Nz2E2Yfqd_"
   },
   "outputs": [],
   "source": []
  }
 ],
 "metadata": {
  "colab": {
   "collapsed_sections": [],
   "name": "Mcnemars_test.ipynb",
   "provenance": []
  },
  "kernelspec": {
   "display_name": "Python 3",
   "language": "python",
   "name": "python3"
  },
  "language_info": {
   "codemirror_mode": {
    "name": "ipython",
    "version": 3
   },
   "file_extension": ".py",
   "mimetype": "text/x-python",
   "name": "python",
   "nbconvert_exporter": "python",
   "pygments_lexer": "ipython3",
   "version": "3.7.3"
  }
 },
 "nbformat": 4,
 "nbformat_minor": 1
}
