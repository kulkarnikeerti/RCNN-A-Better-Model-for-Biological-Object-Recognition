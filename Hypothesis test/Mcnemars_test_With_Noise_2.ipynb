{
 "cells": [
  {
   "cell_type": "code",
   "execution_count": 0,
   "metadata": {
    "colab": {},
    "colab_type": "code",
    "id": "1th7j8oe4YUd"
   },
   "outputs": [],
   "source": [
    "#/content/drive/My Drive/Colab Notebooks/With_Noise_2/With_Adam/With 100 Batch/CSV/BF_2_prediction.csv\n",
    "import pandas as pd\n",
    "BL_predictions = pd.read_csv('/Predictions/With_Noise_2/BL_2_prediction.csv')\n",
    "B_predictions = pd.read_csv('/Predictions/With_Noise_2/B_2_prediction.csv')\n",
    "BF_predictions = pd.read_csv('/Predictions/With_Noise_2/BF_2_prediction.csv')\n",
    "BK_predictions = pd.read_csv('/Predictions/With_Noise_2/BK_2_prediction.csv')\n",
    "BT_predictions = pd.read_csv('/Predictions/With_Noise_2/BT_2_prediction.csv')\n",
    "BLT_predictions = pd.read_csv('/Predictions/With_Noise_2/BLT_2_prediction.csv')"
   ]
  },
  {
   "cell_type": "code",
   "execution_count": 0,
   "metadata": {
    "colab": {},
    "colab_type": "code",
    "id": "pSeYFJVEBcL5"
   },
   "outputs": [],
   "source": [
    "pval_list = []"
   ]
  },
  {
   "cell_type": "code",
   "execution_count": 0,
   "metadata": {
    "colab": {},
    "colab_type": "code",
    "id": "o6ZxGWBL5ci4"
   },
   "outputs": [],
   "source": [
    "BL_prediction_list = BL_predictions.result.to_list()\n",
    "B_prediction_list = B_predictions.result.to_list()\n",
    "BF_prediction_list = BF_predictions.result.to_list()\n",
    "BK_prediction_list = BK_predictions.result.to_list()\n",
    "BT_prediction_list = BT_predictions.result.to_list()\n",
    "BLT_prediction_list = BLT_predictions.result.to_list()"
   ]
  },
  {
   "cell_type": "code",
   "execution_count": 0,
   "metadata": {
    "colab": {},
    "colab_type": "code",
    "id": "UpO9sbR1JVGS"
   },
   "outputs": [],
   "source": [
    "def mcnemar(p,q,r,s):\n",
    "    from statsmodels.stats.contingency_tables import mcnemar\n",
    "    # define contingency table\n",
    "    table = [[p, q],\n",
    "            [r, s]]\n",
    "    # calculate mcnemar test\n",
    "    result = mcnemar(table, exact=False, correction=True) \n",
    "    return result"
   ]
  },
  {
   "cell_type": "code",
   "execution_count": 0,
   "metadata": {
    "colab": {
     "base_uri": "https://localhost:8080/",
     "height": 107
    },
    "colab_type": "code",
    "id": "zbX-Ta7V6Yy9",
    "outputId": "2e596af3-565d-43fb-f5e2-e59b9015459b"
   },
   "outputs": [
    {
     "name": "stdout",
     "output_type": "stream",
     "text": [
      "1278 626 1044 7052\n",
      "1278 626 1044 7052\n",
      "pval_list\n",
      "[1.899319722997654e-24]\n",
      "statistic=104.1251497005988, p-value=1.899319722997654e-24\n"
     ]
    }
   ],
   "source": [
    "#B and BL\n",
    "correct_prediction = [i for i, j in zip(B_prediction_list, BL_prediction_list ) if i == j and i!=0 and j!=0]\n",
    "correct_prediction_B = [i for i, j in zip(B_prediction_list, BL_prediction_list ) if i!= 0 and j==0]\n",
    "correct_prediction_BL = [i for i, j in zip(B_prediction_list, BL_prediction_list ) if i == 0 and j!=0]\n",
    "wrong_prediction = [i for i, j in zip(B_prediction_list, BL_prediction_list ) if i == 0 and j==0]\n",
    "\n",
    "\n",
    "p = len(correct_prediction)\n",
    "q = len(correct_prediction_B)\n",
    "r = len(correct_prediction_BL)\n",
    "s = len(wrong_prediction)\n",
    "\n",
    "print(p,q,r,s)\n",
    "\n",
    "result = mcnemar(p,q,r,s)\n",
    "pval_list.append(result.pvalue)\n",
    "print(\"pval_list\")\n",
    "print(pval_list)\n",
    "print('statistic={}, p-value={}'.format(result.statistic, result.pvalue))\n"
   ]
  },
  {
   "cell_type": "code",
   "execution_count": 0,
   "metadata": {
    "colab": {
     "base_uri": "https://localhost:8080/",
     "height": 107
    },
    "colab_type": "code",
    "id": "6Q6dP1i_HznG",
    "outputId": "bede223d-f23f-4fea-e7e6-7eacfcc982fd"
   },
   "outputs": [
    {
     "name": "stdout",
     "output_type": "stream",
     "text": [
      "1421 483 483 7613\n",
      "1421 483 483 7613\n",
      "pval_list\n",
      "[1.899319722997654e-24, 0.9743329135471787]\n",
      "statistic=0.0010351966873706005, p-value=0.9743329135471787\n"
     ]
    }
   ],
   "source": [
    "#B and BF\n",
    "correct_prediction = [i for i, j in zip(B_prediction_list, BF_prediction_list ) if i == j and i!=0 and j!=0]\n",
    "correct_prediction_B = [i for i, j in zip(B_prediction_list, BF_prediction_list ) if i!= 0 and j==0]\n",
    "correct_prediction_BF = [j for i, j in zip(B_prediction_list, BF_prediction_list ) if i == 0 and j!=0]\n",
    "wrong_prediction = [i for i, j in zip(B_prediction_list, BF_prediction_list ) if i == 0 and j==0]\n",
    "\n",
    "p = len(correct_prediction)\n",
    "q = len(correct_prediction_B)\n",
    "r = len(correct_prediction_BF)\n",
    "s = len(wrong_prediction)\n",
    "\n",
    "print(p,q,r,s)\n",
    "\n",
    "result = mcnemar(p,q,r,s)\n",
    "pval_list.append(result.pvalue)\n",
    "print(\"pval_list\")\n",
    "print(pval_list)\n",
    "print('statistic={}, p-value={}'.format(result.statistic, result.pvalue))"
   ]
  },
  {
   "cell_type": "code",
   "execution_count": 0,
   "metadata": {
    "colab": {
     "base_uri": "https://localhost:8080/",
     "height": 89
    },
    "colab_type": "code",
    "id": "A_ZwNTHGH9LG",
    "outputId": "0877157d-0f47-4ff5-e2c8-32fc3bc3eef4"
   },
   "outputs": [
    {
     "name": "stdout",
     "output_type": "stream",
     "text": [
      "1222 682 786 7310\n",
      "pval_list\n",
      "[1.899319722997654e-24, 0.9743329135471787, 0.007182154963505143]\n",
      "statistic=7.226839237057221, p-value=0.007182154963505143\n"
     ]
    }
   ],
   "source": [
    "#B and BK\n",
    "correct_prediction = [i for i, j in zip(B_prediction_list, BK_prediction_list ) if i == j and i!=0 and j!=0]\n",
    "correct_prediction_B = [i for i, j in zip(B_prediction_list, BK_prediction_list ) if i!= 0 and j==0]\n",
    "correct_prediction_BK = [j for i, j in zip(B_prediction_list, BK_prediction_list ) if i == 0 and j!=0]\n",
    "wrong_prediction = [i for i, j in zip(B_prediction_list, BK_prediction_list ) if i == 0 and j==0]\n",
    "\n",
    "p = len(correct_prediction)\n",
    "q = len(correct_prediction_B)\n",
    "r = len(correct_prediction_BK)\n",
    "s = len(wrong_prediction)\n",
    "\n",
    "result = mcnemar(p,q,r,s)\n",
    "pval_list.append(result.pvalue)\n",
    "print(\"pval_list\")\n",
    "print(pval_list)\n",
    "print('statistic={}, p-value={}'.format(result.statistic, result.pvalue))"
   ]
  },
  {
   "cell_type": "code",
   "execution_count": 0,
   "metadata": {
    "colab": {
     "base_uri": "https://localhost:8080/",
     "height": 89
    },
    "colab_type": "code",
    "id": "ARU4SluYIJLZ",
    "outputId": "c0745319-612c-484a-ea6c-70b26505106f"
   },
   "outputs": [
    {
     "name": "stdout",
     "output_type": "stream",
     "text": [
      "1284 620 900 7196\n",
      "pval_list\n",
      "[1.899319722997654e-24, 0.9743329135471787, 0.007182154963505143, 8.294470934328326e-13]\n",
      "statistic=51.21118421052632, p-value=8.294470934328326e-13\n"
     ]
    }
   ],
   "source": [
    "#B and BT\n",
    "correct_prediction = [i for i, j in zip(B_prediction_list, BT_prediction_list ) if i == j and i!=0 and j!=0]\n",
    "correct_prediction_B = [i for i, j in zip(B_prediction_list, BT_prediction_list ) if i!= 0 and j==0]\n",
    "correct_prediction_BT = [j for i, j in zip(B_prediction_list, BT_prediction_list ) if i == 0 and j!=0]\n",
    "wrong_prediction = [i for i, j in zip(B_prediction_list, BT_prediction_list ) if i == 0 and j==0]\n",
    "\n",
    "p = len(correct_prediction)\n",
    "q = len(correct_prediction_B)\n",
    "r = len(correct_prediction_BT)\n",
    "s = len(wrong_prediction)\n",
    "\n",
    "result = mcnemar(p,q,r,s)\n",
    "pval_list.append(result.pvalue)\n",
    "print(\"pval_list\")\n",
    "print(pval_list)\n",
    "print('statistic={}, p-value={}'.format(result.statistic, result.pvalue))"
   ]
  },
  {
   "cell_type": "code",
   "execution_count": 0,
   "metadata": {
    "colab": {
     "base_uri": "https://localhost:8080/",
     "height": 89
    },
    "colab_type": "code",
    "id": "FIJO6Z9GIPnp",
    "outputId": "3d886397-5b4e-42d7-b9cd-861b2d69794f"
   },
   "outputs": [
    {
     "name": "stdout",
     "output_type": "stream",
     "text": [
      "1311 593 975 7121\n",
      "pval_list\n",
      "[1.899319722997654e-24, 0.9743329135471787, 0.007182154963505143, 8.294470934328326e-13, 6.475013436223606e-22]\n",
      "statistic=92.57716836734694, p-value=6.475013436223606e-22\n"
     ]
    }
   ],
   "source": [
    "#B and BLT\n",
    "correct_prediction = [i for i, j in zip(B_prediction_list, BLT_prediction_list ) if i == j and i!=0 and j!=0]\n",
    "correct_prediction_B = [i for i, j in zip(B_prediction_list, BLT_prediction_list ) if i!= 0 and j==0]\n",
    "correct_prediction_BLT = [j for i, j in zip(B_prediction_list, BLT_prediction_list ) if i == 0 and j!=0]\n",
    "wrong_prediction = [i for i, j in zip(B_prediction_list, BLT_prediction_list ) if i == 0 and j==0]\n",
    "\n",
    "p = len(correct_prediction)\n",
    "q = len(correct_prediction_B)\n",
    "r = len(correct_prediction_BLT)\n",
    "s = len(wrong_prediction)\n",
    "\n",
    "result = mcnemar(p,q,r,s)\n",
    "pval_list.append(result.pvalue)\n",
    "print(\"pval_list\")\n",
    "print(pval_list)\n",
    "print('statistic={}, p-value={}'.format(result.statistic, result.pvalue))"
   ]
  },
  {
   "cell_type": "code",
   "execution_count": 0,
   "metadata": {
    "colab": {
     "base_uri": "https://localhost:8080/",
     "height": 89
    },
    "colab_type": "code",
    "id": "hN3kFtRGIX--",
    "outputId": "d1464ae7-419c-4035-dbd8-a20439cf6037"
   },
   "outputs": [
    {
     "name": "stdout",
     "output_type": "stream",
     "text": [
      "1271 633 737 7359\n",
      "pval_list\n",
      "[1.899319722997654e-24, 0.9743329135471787, 0.007182154963505143, 8.294470934328326e-13, 6.475013436223606e-22, 0.005389739453502417]\n",
      "statistic=7.7437956204379566, p-value=0.005389739453502417\n"
     ]
    }
   ],
   "source": [
    "#BF and BK\n",
    "correct_prediction = [i for i, j in zip(BF_prediction_list, BK_prediction_list ) if i == j and i!=0 and j!=0]\n",
    "correct_prediction_BF = [i for i, j in zip(BF_prediction_list, BK_prediction_list ) if i!= 0 and j==0]\n",
    "correct_prediction_BK = [j for i, j in zip(BF_prediction_list, BK_prediction_list ) if i == 0 and j!=0]\n",
    "wrong_prediction = [i for i, j in zip(BF_prediction_list, BK_prediction_list ) if i == 0 and j==0]\n",
    "\n",
    "p = len(correct_prediction)\n",
    "q = len(correct_prediction_BF)\n",
    "r = len(correct_prediction_BK)\n",
    "s = len(wrong_prediction)\n",
    "\n",
    "result = mcnemar(p,q,r,s)\n",
    "pval_list.append(result.pvalue)\n",
    "print(\"pval_list\")\n",
    "print(pval_list)\n",
    "print('statistic={}, p-value={}'.format(result.statistic, result.pvalue))"
   ]
  },
  {
   "cell_type": "code",
   "execution_count": 0,
   "metadata": {
    "colab": {
     "base_uri": "https://localhost:8080/",
     "height": 89
    },
    "colab_type": "code",
    "id": "YHb76uLbIbb6",
    "outputId": "d0d761e7-04d3-4132-8bce-2b9a66c1cd9f"
   },
   "outputs": [
    {
     "name": "stdout",
     "output_type": "stream",
     "text": [
      "1300 604 1022 7074\n",
      "pval_list\n",
      "[1.899319722997654e-24, 0.9743329135471787, 0.007182154963505143, 8.294470934328326e-13, 6.475013436223606e-22, 0.005389739453502417, 4.582043235800625e-25]\n",
      "statistic=106.94280442804428, p-value=4.582043235800625e-25\n"
     ]
    }
   ],
   "source": [
    "#BF and BL\n",
    "correct_prediction = [i for i, j in zip(BF_prediction_list, BL_prediction_list ) if i == j and i!=0 and j!=0]\n",
    "correct_prediction_BF = [i for i, j in zip(BF_prediction_list, BL_prediction_list ) if i!= 0 and j==0]\n",
    "correct_prediction_BL = [j for i, j in zip(BF_prediction_list, BL_prediction_list ) if i == 0 and j!=0]\n",
    "wrong_prediction = [i for i, j in zip(BF_prediction_list, BL_prediction_list ) if i == 0 and j==0]\n",
    "\n",
    "p = len(correct_prediction)\n",
    "q = len(correct_prediction_BF)\n",
    "r = len(correct_prediction_BL)\n",
    "s = len(wrong_prediction)\n",
    "\n",
    "result = mcnemar(p,q,r,s)\n",
    "pval_list.append(result.pvalue)\n",
    "print(\"pval_list\")\n",
    "print(pval_list)\n",
    "print('statistic={}, p-value={}'.format(result.statistic, result.pvalue))"
   ]
  },
  {
   "cell_type": "code",
   "execution_count": 0,
   "metadata": {
    "colab": {
     "base_uri": "https://localhost:8080/",
     "height": 89
    },
    "colab_type": "code",
    "id": "pYtCS7akIfdC",
    "outputId": "5f078ffe-c4fc-42b1-b4c8-47dfc7a03444"
   },
   "outputs": [
    {
     "name": "stdout",
     "output_type": "stream",
     "text": [
      "1311 593 873 7223\n",
      "pval_list\n",
      "[1.899319722997654e-24, 0.9743329135471787, 0.007182154963505143, 8.294470934328326e-13, 6.475013436223606e-22, 0.005389739453502417, 4.582043235800625e-25, 3.173889874937398e-13]\n",
      "statistic=53.09754433833561, p-value=3.173889874937398e-13\n"
     ]
    }
   ],
   "source": [
    "#BF and BT\n",
    "correct_prediction = [i for i, j in zip(BF_prediction_list, BT_prediction_list ) if i == j and i!=0 and j!=0]\n",
    "correct_prediction_BF = [i for i, j in zip(BF_prediction_list, BT_prediction_list ) if i!= 0 and j==0]\n",
    "correct_prediction_BT = [j for i, j in zip(BF_prediction_list, BT_prediction_list ) if i == 0 and j!=0]\n",
    "wrong_prediction = [i for i, j in zip(BF_prediction_list, BT_prediction_list ) if i == 0 and j==0]\n",
    "\n",
    "p = len(correct_prediction)\n",
    "q = len(correct_prediction_BF)\n",
    "r = len(correct_prediction_BT)\n",
    "s = len(wrong_prediction)\n",
    "\n",
    "result = mcnemar(p,q,r,s)\n",
    "pval_list.append(result.pvalue)\n",
    "print(\"pval_list\")\n",
    "print(pval_list)\n",
    "print('statistic={}, p-value={}'.format(result.statistic, result.pvalue))"
   ]
  },
  {
   "cell_type": "code",
   "execution_count": 0,
   "metadata": {
    "colab": {
     "base_uri": "https://localhost:8080/",
     "height": 89
    },
    "colab_type": "code",
    "id": "xew7-yJZIkhu",
    "outputId": "4268302b-57ab-4b64-ead7-d20e7f345fc0"
   },
   "outputs": [
    {
     "name": "stdout",
     "output_type": "stream",
     "text": [
      "1319 585 967 7129\n",
      "pval_list\n",
      "[1.899319722997654e-24, 0.9743329135471787, 0.007182154963505143, 8.294470934328326e-13, 6.475013436223606e-22, 0.005389739453502417, 4.582043235800625e-25, 3.173889874937398e-13, 3.997724249406881e-22]\n",
      "statistic=93.53157216494846, p-value=3.997724249406881e-22\n"
     ]
    }
   ],
   "source": [
    "#BF and BLT\n",
    "correct_prediction = [i for i, j in zip(BF_prediction_list, BLT_prediction_list ) if i == j and i!=0 and j!=0]\n",
    "correct_prediction_BF = [i for i, j in zip(BF_prediction_list, BLT_prediction_list ) if i!= 0 and j==0]\n",
    "correct_prediction_BLT = [j for i, j in zip(BF_prediction_list, BLT_prediction_list ) if i == 0 and j!=0]\n",
    "wrong_prediction = [i for i, j in zip(BF_prediction_list, BLT_prediction_list ) if i == 0 and j==0]\n",
    "\n",
    "p = len(correct_prediction)\n",
    "q = len(correct_prediction_BF)\n",
    "r = len(correct_prediction_BLT)\n",
    "s = len(wrong_prediction)\n",
    "\n",
    "result = mcnemar(p,q,r,s)\n",
    "pval_list.append(result.pvalue)\n",
    "print(\"pval_list\")\n",
    "print(pval_list)\n",
    "print('statistic={}, p-value={}'.format(result.statistic, result.pvalue))"
   ]
  },
  {
   "cell_type": "code",
   "execution_count": 0,
   "metadata": {
    "colab": {
     "base_uri": "https://localhost:8080/",
     "height": 109
    },
    "colab_type": "code",
    "id": "1bBrPNhOIp1v",
    "outputId": "bd423fdc-55ce-49dd-90ac-791d62e742fb"
   },
   "outputs": [
    {
     "name": "stdout",
     "output_type": "stream",
     "text": [
      "1370 638 952 7040\n",
      "pval_list\n",
      "[1.899319722997654e-24, 0.9743329135471787, 0.007182154963505143, 8.294470934328326e-13, 6.475013436223606e-22, 0.005389739453502417, 4.582043235800625e-25, 3.173889874937398e-13, 3.997724249406881e-22, 4.174716121690567e-15]\n",
      "statistic=61.61572327044025, p-value=4.174716121690567e-15\n"
     ]
    }
   ],
   "source": [
    "#BK and BL\n",
    "correct_prediction = [i for i, j in zip(BK_prediction_list, BL_prediction_list ) if i == j and i!=0 and j!=0]\n",
    "correct_prediction_BK = [i for i, j in zip(BK_prediction_list, BL_prediction_list ) if i!= 0 and j==0]\n",
    "correct_prediction_BL = [j for i, j in zip(BK_prediction_list, BL_prediction_list ) if i == 0 and j!=0]\n",
    "wrong_prediction = [i for i, j in zip(BK_prediction_list, BL_prediction_list ) if i == 0 and j==0]\n",
    "\n",
    "p = len(correct_prediction)\n",
    "q = len(correct_prediction_BK)\n",
    "r = len(correct_prediction_BL)\n",
    "s = len(wrong_prediction)\n",
    "\n",
    "result = mcnemar(p,q,r,s)\n",
    "pval_list.append(result.pvalue)\n",
    "print(\"pval_list\")\n",
    "print(pval_list)\n",
    "print('statistic={}, p-value={}'.format(result.statistic, result.pvalue))"
   ]
  },
  {
   "cell_type": "code",
   "execution_count": 0,
   "metadata": {
    "colab": {
     "base_uri": "https://localhost:8080/",
     "height": 109
    },
    "colab_type": "code",
    "id": "xGoDraInIzNP",
    "outputId": "f6bba773-b057-4ab3-ab2c-4e5a089d56f6"
   },
   "outputs": [
    {
     "name": "stdout",
     "output_type": "stream",
     "text": [
      "1359 649 825 7167\n",
      "pval_list\n",
      "[1.899319722997654e-24, 0.9743329135471787, 0.007182154963505143, 8.294470934328326e-13, 6.475013436223606e-22, 0.005389739453502417, 4.582043235800625e-25, 3.173889874937398e-13, 3.997724249406881e-22, 4.174716121690567e-15, 5.160438682395703e-06]\n",
      "statistic=20.776797829036635, p-value=5.160438682395703e-06\n"
     ]
    }
   ],
   "source": [
    "#BK and BT\n",
    "correct_prediction = [i for i, j in zip(BK_prediction_list, BT_prediction_list ) if i == j and i!=0 and j!=0]\n",
    "correct_prediction_BK = [i for i, j in zip(BK_prediction_list, BT_prediction_list ) if i!= 0 and j==0]\n",
    "correct_prediction_BT = [j for i, j in zip(BK_prediction_list, BT_prediction_list ) if i == 0 and j!=0]\n",
    "wrong_prediction = [i for i, j in zip(BK_prediction_list, BT_prediction_list ) if i == 0 and j==0]\n",
    "\n",
    "p = len(correct_prediction)\n",
    "q = len(correct_prediction_BK)\n",
    "r = len(correct_prediction_BT)\n",
    "s = len(wrong_prediction)\n",
    "\n",
    "result = mcnemar(p,q,r,s)\n",
    "pval_list.append(result.pvalue)\n",
    "print(\"pval_list\")\n",
    "print(pval_list)\n",
    "print('statistic={}, p-value={}'.format(result.statistic, result.pvalue))"
   ]
  },
  {
   "cell_type": "code",
   "execution_count": 0,
   "metadata": {
    "colab": {
     "base_uri": "https://localhost:8080/",
     "height": 109
    },
    "colab_type": "code",
    "id": "aHGtyb0WI2qt",
    "outputId": "7a7e2ef4-c6cb-41f1-9edb-a4486ca18627"
   },
   "outputs": [
    {
     "name": "stdout",
     "output_type": "stream",
     "text": [
      "1405 603 881 7111\n",
      "pval_list\n",
      "[1.899319722997654e-24, 0.9743329135471787, 0.007182154963505143, 8.294470934328326e-13, 6.475013436223606e-22, 0.005389739453502417, 4.582043235800625e-25, 3.173889874937398e-13, 3.997724249406881e-22, 4.174716121690567e-15, 5.160438682395703e-06, 6.452529852084626e-13]\n",
      "statistic=51.70417789757413, p-value=6.452529852084626e-13\n"
     ]
    }
   ],
   "source": [
    "#BK and BLT\n",
    "correct_prediction = [i for i, j in zip(BK_prediction_list, BLT_prediction_list ) if i == j and i!=0 and j!=0]\n",
    "correct_prediction_BK = [i for i, j in zip(BK_prediction_list, BLT_prediction_list ) if i!= 0 and j==0]\n",
    "correct_prediction_BLT = [j for i, j in zip(BK_prediction_list, BLT_prediction_list ) if i == 0 and j!=0]\n",
    "wrong_prediction = [i for i, j in zip(BK_prediction_list, BLT_prediction_list ) if i == 0 and j==0]\n",
    "\n",
    "p = len(correct_prediction)\n",
    "q = len(correct_prediction_BK)\n",
    "r = len(correct_prediction_BLT)\n",
    "s = len(wrong_prediction)\n",
    "\n",
    "result = mcnemar(p,q,r,s)\n",
    "pval_list.append(result.pvalue)\n",
    "print(\"pval_list\")\n",
    "print(pval_list)\n",
    "print('statistic={}, p-value={}'.format(result.statistic, result.pvalue))"
   ]
  },
  {
   "cell_type": "code",
   "execution_count": 0,
   "metadata": {
    "colab": {
     "base_uri": "https://localhost:8080/",
     "height": 109
    },
    "colab_type": "code",
    "id": "OhYOuJA1Eczw",
    "outputId": "6e261123-834a-4ff0-bb0a-2d0210c7a7cf"
   },
   "outputs": [
    {
     "name": "stdout",
     "output_type": "stream",
     "text": [
      "1513 809 671 7007\n",
      "pval_list\n",
      "[1.899319722997654e-24, 0.9743329135471787, 0.007182154963505143, 8.294470934328326e-13, 6.475013436223606e-22, 0.005389739453502417, 4.582043235800625e-25, 3.173889874937398e-13, 3.997724249406881e-22, 4.174716121690567e-15, 5.160438682395703e-06, 6.452529852084626e-13, 0.00036924049037984796]\n",
      "statistic=12.681756756756757, p-value=0.00036924049037984796\n"
     ]
    }
   ],
   "source": [
    "#BL and BT\n",
    "correct_prediction = [i for i, j in zip(BL_prediction_list, BT_prediction_list ) if i == j and i!=0 and j!=0]\n",
    "correct_prediction_BL = [i for i, j in zip(BL_prediction_list, BT_prediction_list ) if i!= 0 and j==0]\n",
    "correct_prediction_BT = [j for i, j in zip(BL_prediction_list, BT_prediction_list ) if i == 0 and j!=0]\n",
    "wrong_prediction = [i for i, j in zip(BL_prediction_list, BT_prediction_list ) if i == 0 and j==0]\n",
    "\n",
    "p = len(correct_prediction)\n",
    "q = len(correct_prediction_BL)\n",
    "r = len(correct_prediction_BT)\n",
    "s = len(wrong_prediction)\n",
    "\n",
    "result = mcnemar(p,q,r,s)\n",
    "pval_list.append(result.pvalue)\n",
    "print(\"pval_list\")\n",
    "print(pval_list)\n",
    "print('statistic={}, p-value={}'.format(result.statistic, result.pvalue))"
   ]
  },
  {
   "cell_type": "code",
   "execution_count": 0,
   "metadata": {
    "colab": {
     "base_uri": "https://localhost:8080/",
     "height": 109
    },
    "colab_type": "code",
    "id": "_2Ou5dwoI-DR",
    "outputId": "0025c6b9-daf7-4f8e-fe5f-52e4ba6f8cc9"
   },
   "outputs": [
    {
     "name": "stdout",
     "output_type": "stream",
     "text": [
      "1589 733 697 6981\n",
      "pval_list\n",
      "[1.899319722997654e-24, 0.9743329135471787, 0.007182154963505143, 8.294470934328326e-13, 6.475013436223606e-22, 0.005389739453502417, 4.582043235800625e-25, 3.173889874937398e-13, 3.997724249406881e-22, 4.174716121690567e-15, 5.160438682395703e-06, 6.452529852084626e-13, 0.00036924049037984796, 0.35467973230294814]\n",
      "statistic=0.8566433566433567, p-value=0.35467973230294814\n"
     ]
    }
   ],
   "source": [
    "#BL and BLT\n",
    "correct_prediction = [i for i, j in zip(BL_prediction_list, BLT_prediction_list ) if i == j and i!=0 and j!=0]\n",
    "correct_prediction_BL = [i for i, j in zip(BL_prediction_list, BLT_prediction_list ) if i!= 0 and j==0]\n",
    "correct_prediction_BLT = [j for i, j in zip(BL_prediction_list, BLT_prediction_list ) if i == 0 and j!=0]\n",
    "wrong_prediction = [i for i, j in zip(BL_prediction_list, BLT_prediction_list ) if i == 0 and j==0]\n",
    "\n",
    "p = len(correct_prediction)\n",
    "q = len(correct_prediction_BL)\n",
    "r = len(correct_prediction_BLT)\n",
    "s = len(wrong_prediction)\n",
    "\n",
    "result = mcnemar(p,q,r,s)\n",
    "pval_list.append(result.pvalue)\n",
    "print(\"pval_list\")\n",
    "print(pval_list)\n",
    "print('statistic={}, p-value={}'.format(result.statistic, result.pvalue))"
   ]
  },
  {
   "cell_type": "code",
   "execution_count": 0,
   "metadata": {
    "colab": {
     "base_uri": "https://localhost:8080/",
     "height": 109
    },
    "colab_type": "code",
    "id": "3nqkWzNKJC5L",
    "outputId": "75b2bccc-0417-4510-d57f-c51b27a35c74"
   },
   "outputs": [
    {
     "name": "stdout",
     "output_type": "stream",
     "text": [
      "1632 552 654 7162\n",
      "pval_list\n",
      "[1.899319722997654e-24, 0.9743329135471787, 0.007182154963505143, 8.294470934328326e-13, 6.475013436223606e-22, 0.005389739453502417, 4.582043235800625e-25, 3.173889874937398e-13, 3.997724249406881e-22, 4.174716121690567e-15, 5.160438682395703e-06, 6.452529852084626e-13, 0.00036924049037984796, 0.35467973230294814, 0.00363333264211255]\n",
      "statistic=8.458540630182421, p-value=0.00363333264211255\n"
     ]
    }
   ],
   "source": [
    "#BT and BLT\n",
    "correct_prediction = [i for i, j in zip(BT_prediction_list, BLT_prediction_list ) if i == j and i!=0 and j!=0]\n",
    "correct_prediction_BT = [i for i, j in zip(BT_prediction_list, BLT_prediction_list ) if i!= 0 and j==0]\n",
    "correct_prediction_BLT = [j for i, j in zip(BT_prediction_list, BLT_prediction_list ) if i == 0 and j!=0]\n",
    "wrong_prediction = [i for i, j in zip(BT_prediction_list, BLT_prediction_list ) if i == 0 and j==0]\n",
    "\n",
    "p = len(correct_prediction)\n",
    "q = len(correct_prediction_BT)\n",
    "r = len(correct_prediction_BLT)\n",
    "s = len(wrong_prediction)\n",
    "\n",
    "result = mcnemar(p,q,r,s)\n",
    "pval_list.append(result.pvalue)\n",
    "print(\"pval_list\")\n",
    "print(pval_list)\n",
    "print('statistic={}, p-value={}'.format(result.statistic, result.pvalue))"
   ]
  },
  {
   "cell_type": "code",
   "execution_count": 0,
   "metadata": {
    "colab": {
     "base_uri": "https://localhost:8080/",
     "height": 89
    },
    "colab_type": "code",
    "id": "54bAMnxpGUog",
    "outputId": "bf3c3a2a-46b6-4712-f098-6711a68e6eac"
   },
   "outputs": [
    {
     "data": {
      "text/plain": [
       "array([1.89931972e-24, 9.74332914e-01, 7.18215496e-03, 8.29447093e-13,\n",
       "       6.47501344e-22, 5.38973945e-03, 4.58204324e-25, 3.17388987e-13,\n",
       "       3.99772425e-22, 4.17471612e-15, 5.16043868e-06, 6.45252985e-13,\n",
       "       3.69240490e-04, 3.54679732e-01, 3.63333264e-03])"
      ]
     },
     "execution_count": 22,
     "metadata": {
      "tags": []
     },
     "output_type": "execute_result"
    }
   ],
   "source": [
    "len(pval_list)\n",
    "import numpy as np\n",
    "import statsmodels.api\n",
    "pvals = np.array(pval_list)\n",
    "pvals"
   ]
  },
  {
   "cell_type": "code",
   "execution_count": 0,
   "metadata": {
    "colab": {
     "base_uri": "https://localhost:8080/",
     "height": 161
    },
    "colab_type": "code",
    "id": "AaYEpFe-tIpX",
    "outputId": "286e0368-c319-4b50-b469-138bb673990f"
   },
   "outputs": [
    {
     "data": {
      "text/plain": [
       "(array([ True, False,  True,  True,  True,  True,  True,  True,  True,\n",
       "         True,  True,  True,  True, False,  True]),\n",
       " array([1.42448979e-23, 9.74332914e-01, 8.28710188e-03, 1.55521330e-12,\n",
       "        2.42813004e-21, 6.73717432e-03, 6.87306485e-24, 7.93472469e-13,\n",
       "        1.99886212e-21, 1.25241484e-14, 8.60073114e-06, 1.38268497e-12,\n",
       "        5.53860736e-04, 3.80013999e-01, 4.95454451e-03]),\n",
       " 0.0034137129465903193,\n",
       " 0.0033333333333333335)"
      ]
     },
     "execution_count": 23,
     "metadata": {
      "tags": []
     },
     "output_type": "execute_result"
    }
   ],
   "source": [
    "statsmodels.stats.multitest.multipletests(pvals, alpha=0.05, method='fdr_bh', is_sorted=False, returnsorted=False)"
   ]
  }
 ],
 "metadata": {
  "colab": {
   "collapsed_sections": [],
   "name": "With_1_Mcnemars_test.ipynb",
   "provenance": []
  },
  "kernelspec": {
   "display_name": "Python 3",
   "language": "python",
   "name": "python3"
  },
  "language_info": {
   "codemirror_mode": {
    "name": "ipython",
    "version": 3
   },
   "file_extension": ".py",
   "mimetype": "text/x-python",
   "name": "python",
   "nbconvert_exporter": "python",
   "pygments_lexer": "ipython3",
   "version": "3.7.3"
  }
 },
 "nbformat": 4,
 "nbformat_minor": 1
}
